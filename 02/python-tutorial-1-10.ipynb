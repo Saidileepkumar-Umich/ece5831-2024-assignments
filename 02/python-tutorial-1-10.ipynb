{
  "cells": [
    {
      "cell_type": "markdown",
      "metadata": {
        "id": "8iXkIEwkMZd7"
      },
      "source": [
        "# Python Tutorial"
      ]
    },
    {
      "cell_type": "markdown",
      "metadata": {
        "id": "HpJ1dWMeMZd-"
      },
      "source": [
        "## Section 1: Fundamentals"
      ]
    },
    {
      "cell_type": "markdown",
      "metadata": {
        "id": "wAWr6qHfMZd-"
      },
      "source": [
        "### Syntax"
      ]
    },
    {
      "cell_type": "code",
      "execution_count": 1,
      "metadata": {
        "colab": {
          "base_uri": "https://localhost:8080/"
        },
        "id": "DbPTvKEvMZd_",
        "outputId": "4753580b-0836-4b51-ebb9-f96b30df0950"
      },
      "outputs": [
        {
          "output_type": "stream",
          "name": "stdout",
          "text": [
            "1\n",
            "2\n",
            "3\n",
            "4\n",
            "5\n",
            "6\n",
            "7\n",
            "8\n",
            "9\n",
            "['False', 'None', 'True', 'and', 'as', 'assert', 'async', 'await', 'break', 'class', 'continue', 'def', 'del', 'elif', 'else', 'except', 'finally', 'for', 'from', 'global', 'if', 'import', 'in', 'is', 'lambda', 'nonlocal', 'not', 'or', 'pass', 'raise', 'return', 'try', 'while', 'with', 'yield']\n"
          ]
        }
      ],
      "source": [
        "# define main function to print out something\n",
        "def main():\n",
        "    i = 1\n",
        "    max = 10\n",
        "    while (i < max):\n",
        "        print(i)\n",
        "        i = i + 1\n",
        "\n",
        "# call function main\n",
        "main()\n",
        "\n",
        "# This is a single line comment in Python\n",
        "\n",
        "import keyword\n",
        "\n",
        "print(keyword.kwlist)"
      ]
    },
    {
      "cell_type": "code",
      "execution_count": 2,
      "metadata": {
        "colab": {
          "base_uri": "https://localhost:8080/"
        },
        "id": "W4GtQCBaMZeA",
        "outputId": "9a1e9f30-5850-4403-fb2b-5f8d39431ca9"
      },
      "outputs": [
        {
          "output_type": "stream",
          "name": "stdout",
          "text": [
            "This is a string\n",
            "Another string using double quotes\n",
            " string can span\n",
            "        multiple line \n"
          ]
        }
      ],
      "source": [
        "s = 'This is a string'\n",
        "print(s)\n",
        "s = \"Another string using double quotes\"\n",
        "print(s)\n",
        "s = ''' string can span\n",
        "        multiple line '''\n",
        "print(s)"
      ]
    },
    {
      "cell_type": "markdown",
      "metadata": {
        "id": "EYa2VMIgMZeB"
      },
      "source": [
        "### Variables"
      ]
    },
    {
      "cell_type": "code",
      "execution_count": 3,
      "metadata": {
        "colab": {
          "base_uri": "https://localhost:8080/"
        },
        "id": "ZNVodwVxMZeB",
        "outputId": "cf413dbe-493e-4275-885c-a40cda89f25f"
      },
      "outputs": [
        {
          "output_type": "stream",
          "name": "stdout",
          "text": [
            "Hello, World!\n",
            "Good Bye!\n"
          ]
        }
      ],
      "source": [
        "message = 'Hello, World!'\n",
        "print(message)\n",
        "\n",
        "message = 'Good Bye!'\n",
        "print(message)"
      ]
    },
    {
      "cell_type": "markdown",
      "metadata": {
        "id": "Vn3A813kMZeB"
      },
      "source": [
        "### String"
      ]
    },
    {
      "cell_type": "code",
      "execution_count": 4,
      "metadata": {
        "colab": {
          "base_uri": "https://localhost:8080/"
        },
        "id": "qChiUNu_MZeB",
        "outputId": "8a3ca4e5-544f-494f-b33b-7fdfebc1d36f"
      },
      "outputs": [
        {
          "output_type": "stream",
          "name": "stdout",
          "text": [
            "\n",
            "Usage: mysql command\n",
            "    -h hostname     \n",
            "    -d database name\n",
            "    -u username\n",
            "    -p password \n",
            "\n"
          ]
        }
      ],
      "source": [
        "message = 'This is a string in Python'\n",
        "message = \"This is also a string\"\n",
        "\n",
        "help_message = '''\n",
        "Usage: mysql command\n",
        "    -h hostname\n",
        "    -d database name\n",
        "    -u username\n",
        "    -p password\n",
        "'''\n",
        "\n",
        "print(help_message)"
      ]
    },
    {
      "cell_type": "markdown",
      "metadata": {
        "id": "MhXDhgNVMZeC"
      },
      "source": [
        "### Numbers"
      ]
    },
    {
      "cell_type": "code",
      "execution_count": 5,
      "metadata": {
        "colab": {
          "base_uri": "https://localhost:8080/"
        },
        "id": "Mfw6XZg5MZeC",
        "outputId": "9044d577-e04f-41a8-ae0d-773c5cb411c8"
      },
      "outputs": [
        {
          "output_type": "stream",
          "name": "stdout",
          "text": [
            "10000000000\n"
          ]
        }
      ],
      "source": [
        "count = 10_000_000_000\n",
        "print(count)"
      ]
    },
    {
      "cell_type": "markdown",
      "metadata": {
        "id": "Px_C_JwKMZeC"
      },
      "source": [
        "### Booelans"
      ]
    },
    {
      "cell_type": "code",
      "execution_count": 6,
      "metadata": {
        "colab": {
          "base_uri": "https://localhost:8080/"
        },
        "id": "3YkKYRxdMZeD",
        "outputId": "b6b031d9-2805-4add-fe9d-0ef1268480ea"
      },
      "outputs": [
        {
          "output_type": "execute_result",
          "data": {
            "text/plain": [
              "False"
            ]
          },
          "metadata": {},
          "execution_count": 6
        }
      ],
      "source": [
        "20 > 10\n",
        "10 > 20"
      ]
    },
    {
      "cell_type": "markdown",
      "metadata": {
        "id": "TuxHxgD2MZeD"
      },
      "source": [
        "### Constants"
      ]
    },
    {
      "cell_type": "code",
      "execution_count": 7,
      "metadata": {
        "id": "cA-TGJSHMZeD"
      },
      "outputs": [],
      "source": [
        "FILE_SIZE_LIMIT = 2000"
      ]
    },
    {
      "cell_type": "markdown",
      "metadata": {
        "id": "S5xePI5ZMZeD"
      },
      "source": [
        "### Commenting"
      ]
    },
    {
      "cell_type": "code",
      "execution_count": 9,
      "metadata": {
        "id": "AgC1C1F7MZeE"
      },
      "outputs": [],
      "source": [
        "# increase price by 5%\n",
        "#price = price * 1.05"
      ]
    },
    {
      "cell_type": "markdown",
      "metadata": {
        "id": "4Q-qmQjXMZeE"
      },
      "source": [
        "### Type converstion"
      ]
    },
    {
      "cell_type": "code",
      "execution_count": 10,
      "metadata": {
        "colab": {
          "base_uri": "https://localhost:8080/"
        },
        "id": "tb4dV4QaMZeE",
        "outputId": "8069de33-4ae4-4b7a-efd8-dc47a4f9113d"
      },
      "outputs": [
        {
          "output_type": "stream",
          "name": "stdout",
          "text": [
            "Enter the price ($):1000\n",
            "Enter the tax rate (%):15\n",
            "The tax amount is $150.0\n"
          ]
        }
      ],
      "source": [
        "price = input('Enter the price ($):')\n",
        "tax = input('Enter the tax rate (%):')\n",
        "\n",
        "tax_amount = int(price) * int(tax) / 100\n",
        "print(f'The tax amount is ${tax_amount}')"
      ]
    },
    {
      "cell_type": "markdown",
      "metadata": {
        "id": "h-CVkI47MZeF"
      },
      "source": [
        "## Section 2: Basic Operators"
      ]
    },
    {
      "cell_type": "markdown",
      "metadata": {
        "id": "r7CGL4IWMZeF"
      },
      "source": [
        "###  Comparison Operators"
      ]
    },
    {
      "cell_type": "code",
      "execution_count": 11,
      "metadata": {
        "colab": {
          "base_uri": "https://localhost:8080/"
        },
        "id": "_AujnW9oMZeF",
        "outputId": "05d126e3-2428-48de-df44-72b6dd6a12dc"
      },
      "outputs": [
        {
          "output_type": "execute_result",
          "data": {
            "text/plain": [
              "True"
            ]
          },
          "metadata": {},
          "execution_count": 11
        }
      ],
      "source": [
        "'apple' >= 'apple'\n",
        "'apple' >= 'orange'\n",
        "'orange' >= 'apple'"
      ]
    },
    {
      "cell_type": "markdown",
      "metadata": {
        "id": "Xwpp_B_7MZeG"
      },
      "source": [
        "### Logical operators"
      ]
    },
    {
      "cell_type": "code",
      "execution_count": 12,
      "metadata": {
        "colab": {
          "base_uri": "https://localhost:8080/"
        },
        "id": "zpgCndlTMZeG",
        "outputId": "d8ef3d71-293a-4f42-ec2c-28740611829c"
      },
      "outputs": [
        {
          "output_type": "execute_result",
          "data": {
            "text/plain": [
              "True"
            ]
          },
          "metadata": {},
          "execution_count": 12
        }
      ],
      "source": [
        "price = 15\n",
        "price > 10 and price < 20"
      ]
    },
    {
      "cell_type": "markdown",
      "metadata": {
        "id": "8_fHl86vMZeH"
      },
      "source": [
        "## Section 3: Strings"
      ]
    },
    {
      "cell_type": "markdown",
      "metadata": {
        "id": "Y_okpon2MZeH"
      },
      "source": [
        "### if statements"
      ]
    },
    {
      "cell_type": "code",
      "execution_count": 13,
      "metadata": {
        "colab": {
          "base_uri": "https://localhost:8080/"
        },
        "id": "c4z2z2FoMZeH",
        "outputId": "38260666-63ee-4e15-8ef2-ffd7ca679c81"
      },
      "outputs": [
        {
          "output_type": "stream",
          "name": "stdout",
          "text": [
            "Enter your age:22\n",
            "You'll pay $18 for the ticket\n"
          ]
        }
      ],
      "source": [
        "age = input('Enter your age:')\n",
        "\n",
        "# convert the string to int\n",
        "your_age = int(age)\n",
        "\n",
        "# determine the ticket price\n",
        "if your_age < 5:\n",
        "    ticket_price = 5\n",
        "elif your_age < 16:\n",
        "    ticket_price = 10\n",
        "else:\n",
        "    ticket_price = 18\n",
        "\n",
        "# show the ticket price\n",
        "print(f\"You'll pay ${ticket_price} for the ticket\")\n"
      ]
    },
    {
      "cell_type": "markdown",
      "metadata": {
        "id": "FrctFsBeMZeI"
      },
      "source": [
        "### Ternary Operator"
      ]
    },
    {
      "cell_type": "code",
      "execution_count": 14,
      "metadata": {
        "colab": {
          "base_uri": "https://localhost:8080/"
        },
        "id": "3opQOmlXMZeI",
        "outputId": "bd2705bd-5379-47f2-e93e-7533fd58755f"
      },
      "outputs": [
        {
          "output_type": "stream",
          "name": "stdout",
          "text": [
            "Enter your age:22\n",
            "The ticket price is 20\n"
          ]
        }
      ],
      "source": [
        "age = input('Enter your age:')\n",
        "\n",
        "ticket_price = 20 if int(age) >= 18 else 5\n",
        "\n",
        "print(f\"The ticket price is {ticket_price}\")"
      ]
    },
    {
      "cell_type": "markdown",
      "metadata": {
        "id": "y5f-fXKVMZeJ"
      },
      "source": [
        "### for Loop with Range"
      ]
    },
    {
      "cell_type": "code",
      "execution_count": 15,
      "metadata": {
        "colab": {
          "base_uri": "https://localhost:8080/"
        },
        "id": "L_6dKf02MZeJ",
        "outputId": "c15bd9b4-44b6-43ba-d4bd-1fed9bf35ecc"
      },
      "outputs": [
        {
          "output_type": "stream",
          "name": "stdout",
          "text": [
            "5050\n"
          ]
        }
      ],
      "source": [
        "sum = 0\n",
        "for num in range(101):\n",
        "    sum += num\n",
        "\n",
        "print(sum)"
      ]
    },
    {
      "cell_type": "markdown",
      "metadata": {
        "id": "WUphGTxHMZeJ"
      },
      "source": [
        "### while"
      ]
    },
    {
      "cell_type": "code",
      "execution_count": 16,
      "metadata": {
        "colab": {
          "base_uri": "https://localhost:8080/"
        },
        "id": "UJLN0t5nMZeK",
        "outputId": "435c94a2-6352-4b11-8042-dd925aa31324"
      },
      "outputs": [
        {
          "output_type": "stream",
          "name": "stdout",
          "text": [
            "0\n",
            "1\n",
            "2\n",
            "3\n",
            "4\n"
          ]
        }
      ],
      "source": [
        "max = 5\n",
        "counter = 0\n",
        "\n",
        "while counter < max:\n",
        "    print(counter)\n",
        "    counter += 1"
      ]
    },
    {
      "cell_type": "markdown",
      "metadata": {
        "id": "v6qX74oxMZeK"
      },
      "source": [
        "### break"
      ]
    },
    {
      "cell_type": "code",
      "execution_count": 17,
      "metadata": {
        "colab": {
          "base_uri": "https://localhost:8080/"
        },
        "id": "-w6LK2KzMZeL",
        "outputId": "754c11ea-61f9-473a-dc15-05839c0f3c30"
      },
      "outputs": [
        {
          "output_type": "stream",
          "name": "stdout",
          "text": [
            "0\n",
            "1\n",
            "2\n",
            "3\n"
          ]
        }
      ],
      "source": [
        "for index in range(0, 10):\n",
        "    print(index)\n",
        "    if index == 3:\n",
        "        break"
      ]
    },
    {
      "cell_type": "markdown",
      "metadata": {
        "id": "7J43t6G_MZeL"
      },
      "source": [
        "### continue"
      ]
    },
    {
      "cell_type": "code",
      "execution_count": 18,
      "metadata": {
        "colab": {
          "base_uri": "https://localhost:8080/"
        },
        "id": "aQX_01AYMZeM",
        "outputId": "4a58a954-b006-4e94-e29a-1769ce8ea8f5"
      },
      "outputs": [
        {
          "output_type": "stream",
          "name": "stdout",
          "text": [
            "0\n",
            "2\n",
            "4\n",
            "6\n",
            "8\n"
          ]
        }
      ],
      "source": [
        "for index in range(10):\n",
        "    if index % 2:\n",
        "        continue\n",
        "\n",
        "    print(index)"
      ]
    },
    {
      "cell_type": "markdown",
      "metadata": {
        "id": "I0FxnenHMZeM"
      },
      "source": [
        "### pass"
      ]
    },
    {
      "cell_type": "code",
      "execution_count": 19,
      "metadata": {
        "id": "NYwmtazsMZeM"
      },
      "outputs": [],
      "source": [
        "counter = 1\n",
        "max = 10\n",
        "if counter <= max:\n",
        "    counter += 1\n",
        "else:\n",
        "    pass"
      ]
    },
    {
      "cell_type": "markdown",
      "metadata": {
        "id": "c1fn1qr2MZeO"
      },
      "source": [
        "## Section 4: Functions"
      ]
    },
    {
      "cell_type": "markdown",
      "metadata": {
        "id": "lqkhRZ1HMZeP"
      },
      "source": [
        "### Functions"
      ]
    },
    {
      "cell_type": "code",
      "execution_count": 20,
      "metadata": {
        "colab": {
          "base_uri": "https://localhost:8080/"
        },
        "id": "gStAC9UyMZeP",
        "outputId": "4b9a7d0f-e6a7-4cb6-85fa-7d299a4e687d"
      },
      "outputs": [
        {
          "output_type": "stream",
          "name": "stdout",
          "text": [
            "30\n"
          ]
        }
      ],
      "source": [
        "def sum(a, b):\n",
        "    return a + b\n",
        "\n",
        "\n",
        "total = sum(10,20)\n",
        "print(total)"
      ]
    },
    {
      "cell_type": "markdown",
      "metadata": {
        "id": "5lzdKGw9MZeP"
      },
      "source": [
        "### Default Parameters"
      ]
    },
    {
      "cell_type": "code",
      "execution_count": 21,
      "metadata": {
        "colab": {
          "base_uri": "https://localhost:8080/"
        },
        "id": "aL8VeWOgMZeQ",
        "outputId": "6a5c6df8-462f-4768-f350-6e43e76b5958"
      },
      "outputs": [
        {
          "output_type": "stream",
          "name": "stdout",
          "text": [
            "Hello there\n"
          ]
        }
      ],
      "source": [
        "def greet(name='there', message='Hi'):\n",
        "    return f\"{message} {name}\"\n",
        "\n",
        "\n",
        "greeting = greet(message='Hello')\n",
        "print(greeting)"
      ]
    },
    {
      "cell_type": "markdown",
      "metadata": {
        "id": "7v0CGRyrMZeQ"
      },
      "source": [
        "### Keyword Arguments"
      ]
    },
    {
      "cell_type": "code",
      "execution_count": 22,
      "metadata": {
        "id": "K-nDLPa4MZeQ"
      },
      "outputs": [],
      "source": [
        "def get_net_price(price, tax=0.07, discount=0.05):\n",
        "    return price * (1 + tax - discount)"
      ]
    },
    {
      "cell_type": "markdown",
      "metadata": {
        "id": "DiRztytxMZeR"
      },
      "source": [
        "### Recursive Functions"
      ]
    },
    {
      "cell_type": "code",
      "execution_count": 23,
      "metadata": {
        "colab": {
          "base_uri": "https://localhost:8080/"
        },
        "id": "xA9CvZNiMZeR",
        "outputId": "09238f4d-9d50-4e92-ae8a-32e8508e3e0f"
      },
      "outputs": [
        {
          "output_type": "stream",
          "name": "stdout",
          "text": [
            "3\n",
            "2\n",
            "1\n"
          ]
        }
      ],
      "source": [
        "def count_down(start):\n",
        "    \"\"\" Count down from a number  \"\"\"\n",
        "    print(start)\n",
        "\n",
        "    # call the count_down if the next\n",
        "    # number is greater than 0\n",
        "    next = start - 1\n",
        "    if next > 0:\n",
        "        count_down(next)\n",
        "\n",
        "\n",
        "count_down(3)"
      ]
    },
    {
      "cell_type": "markdown",
      "metadata": {
        "id": "Icqe51NNMZeR"
      },
      "source": [
        "### Lambda Expressions"
      ]
    },
    {
      "cell_type": "code",
      "execution_count": 24,
      "metadata": {
        "colab": {
          "base_uri": "https://localhost:8080/"
        },
        "id": "7v2dMWJaMZeS",
        "outputId": "038ff30d-8067-4659-e2fb-14e6ed9ff21b"
      },
      "outputs": [
        {
          "output_type": "stream",
          "name": "stdout",
          "text": [
            "1\n",
            "2\n",
            "3\n"
          ]
        }
      ],
      "source": [
        "callables = []\n",
        "for i in (1, 2, 3):\n",
        "    callables.append(lambda a=i: a)\n",
        "\n",
        "for f in callables:\n",
        "    print(f())\n"
      ]
    },
    {
      "cell_type": "markdown",
      "metadata": {
        "id": "UfB1cBEmMZeS"
      },
      "source": [
        "### Docstrings"
      ]
    },
    {
      "cell_type": "code",
      "execution_count": 25,
      "metadata": {
        "colab": {
          "base_uri": "https://localhost:8080/"
        },
        "id": "-NzId6HhMZeS",
        "outputId": "e512c088-5be6-42f4-c2f5-c430e619e435"
      },
      "outputs": [
        {
          "output_type": "stream",
          "name": "stdout",
          "text": [
            "Help on built-in function print in module builtins:\n",
            "\n",
            "print(...)\n",
            "    print(value, ..., sep=' ', end='\\n', file=sys.stdout, flush=False)\n",
            "    \n",
            "    Prints the values to a stream, or to sys.stdout by default.\n",
            "    Optional keyword arguments:\n",
            "    file:  a file-like object (stream); defaults to the current sys.stdout.\n",
            "    sep:   string inserted between values, default a space.\n",
            "    end:   string appended after the last value, default a newline.\n",
            "    flush: whether to forcibly flush the stream.\n",
            "\n"
          ]
        }
      ],
      "source": [
        "help(print)"
      ]
    },
    {
      "cell_type": "markdown",
      "metadata": {
        "id": "9UlPQ4m3MZeT"
      },
      "source": [
        "## Section 5: Lists"
      ]
    },
    {
      "cell_type": "markdown",
      "metadata": {
        "id": "Pz_0RTqWMZeT"
      },
      "source": [
        "### List"
      ]
    },
    {
      "cell_type": "code",
      "execution_count": 26,
      "metadata": {
        "colab": {
          "base_uri": "https://localhost:8080/"
        },
        "id": "gJkp3M9MMZeU",
        "outputId": "6a2c3ca9-13a7-40d2-9699-24d74b978141"
      },
      "outputs": [
        {
          "output_type": "stream",
          "name": "stdout",
          "text": [
            "['red', 'green', 'blue']\n"
          ]
        }
      ],
      "source": [
        "colors = ['red', 'green', 'blue']\n",
        "print(colors)"
      ]
    },
    {
      "cell_type": "markdown",
      "metadata": {
        "id": "F_GfqtvOMZeU"
      },
      "source": [
        "### Tuples"
      ]
    },
    {
      "cell_type": "code",
      "execution_count": 27,
      "metadata": {
        "colab": {
          "base_uri": "https://localhost:8080/"
        },
        "id": "1WBL1lveMZeV",
        "outputId": "77e76c60-77bc-42c7-d8fa-f03092819813"
      },
      "outputs": [
        {
          "output_type": "stream",
          "name": "stdout",
          "text": [
            "red\n",
            "green\n",
            "blue\n"
          ]
        }
      ],
      "source": [
        "rgb = ('red', 'green', 'blue')\n",
        "\n",
        "print(rgb[0])\n",
        "print(rgb[1])\n",
        "print(rgb[2])"
      ]
    },
    {
      "cell_type": "markdown",
      "metadata": {
        "id": "F0WM2GLoMZeV"
      },
      "source": [
        "### Sort List"
      ]
    },
    {
      "cell_type": "code",
      "execution_count": 28,
      "metadata": {
        "colab": {
          "base_uri": "https://localhost:8080/"
        },
        "id": "Cz4lgHVzMZeV",
        "outputId": "0be4a24c-1e3f-4adb-d1cd-9702a403202d"
      },
      "outputs": [
        {
          "output_type": "stream",
          "name": "stdout",
          "text": [
            "['James', 'Jennifer', 'John', 'Mary', 'Patricia', 'Robert']\n"
          ]
        }
      ],
      "source": [
        "guests = ['James', 'Mary', 'John', 'Patricia', 'Robert', 'Jennifer']\n",
        "guests.sort()\n",
        "\n",
        "print(guests)"
      ]
    },
    {
      "cell_type": "markdown",
      "metadata": {
        "id": "EeEoIimUMZeW"
      },
      "source": [
        "### sorted"
      ]
    },
    {
      "cell_type": "code",
      "execution_count": 29,
      "metadata": {
        "colab": {
          "base_uri": "https://localhost:8080/"
        },
        "id": "y2RsSWofMZeW",
        "outputId": "325e91ad-1262-440e-d808-9ea15ca56dff"
      },
      "outputs": [
        {
          "output_type": "stream",
          "name": "stdout",
          "text": [
            "['James', 'Mary', 'John', 'Patricia', 'Robert', 'Jennifer']\n",
            "['James', 'Jennifer', 'John', 'Mary', 'Patricia', 'Robert']\n"
          ]
        }
      ],
      "source": [
        "guests = ['James', 'Mary', 'John', 'Patricia', 'Robert', 'Jennifer']\n",
        "sorted_guests = sorted(guests)\n",
        "\n",
        "print(guests)\n",
        "print(sorted_guests)"
      ]
    },
    {
      "cell_type": "markdown",
      "metadata": {
        "id": "mmpUMooxMZeX"
      },
      "source": [
        "### List Slice"
      ]
    },
    {
      "cell_type": "code",
      "execution_count": 30,
      "metadata": {
        "colab": {
          "base_uri": "https://localhost:8080/"
        },
        "id": "wu_o_nPCMZeX",
        "outputId": "fb8b00fe-ad24-4b17-82cf-d8762f2a6bd6"
      },
      "outputs": [
        {
          "output_type": "stream",
          "name": "stdout",
          "text": [
            "['orange', 'yellow', 'green']\n"
          ]
        }
      ],
      "source": [
        "colors = ['red', 'orange', 'yellow', 'green', 'blue', 'indigo', 'violet']\n",
        "sub_colors = colors[1:4]\n",
        "\n",
        "print(sub_colors)\n"
      ]
    },
    {
      "cell_type": "markdown",
      "metadata": {
        "id": "dRoNfIzTMZeX"
      },
      "source": [
        "### Unpack a List"
      ]
    },
    {
      "cell_type": "code",
      "execution_count": 31,
      "metadata": {
        "colab": {
          "base_uri": "https://localhost:8080/"
        },
        "id": "3KoIGDvZMZeY",
        "outputId": "5f62292a-1828-49a1-b263-64ba9df7f47a"
      },
      "outputs": [
        {
          "output_type": "stream",
          "name": "stdout",
          "text": [
            "red\n",
            "blue\n",
            "['green']\n"
          ]
        }
      ],
      "source": [
        "colors = ['red', 'blue', 'green']\n",
        "red, blue, *other = colors\n",
        "\n",
        "print(red)\n",
        "print(blue)\n",
        "print(other)\n"
      ]
    },
    {
      "cell_type": "markdown",
      "metadata": {
        "id": "hnIs7dSOMZeY"
      },
      "source": [
        "### For Loop to Iterate over a List"
      ]
    },
    {
      "cell_type": "code",
      "execution_count": 32,
      "metadata": {
        "colab": {
          "base_uri": "https://localhost:8080/"
        },
        "id": "jgLfvCvdMZeY",
        "outputId": "9c91e10f-a9b4-4ec0-bb82-6d28500ae5ab"
      },
      "outputs": [
        {
          "output_type": "stream",
          "name": "stdout",
          "text": [
            "New York\n",
            "Beijing\n",
            "Cairo\n",
            "Mumbai\n",
            "Mexico\n"
          ]
        }
      ],
      "source": [
        "cities = ['New York', 'Beijing', 'Cairo', 'Mumbai', 'Mexico']\n",
        "\n",
        "for city in cities:\n",
        "    print(city)"
      ]
    },
    {
      "cell_type": "markdown",
      "metadata": {
        "id": "-Gr_fJ1VMZeZ"
      },
      "source": [
        "### Find the Index of an Element in a Listc"
      ]
    },
    {
      "cell_type": "code",
      "execution_count": 33,
      "metadata": {
        "colab": {
          "base_uri": "https://localhost:8080/"
        },
        "id": "gESFQ98wMZeZ",
        "outputId": "7f798b61-6227-4063-e505-57a5295e1f8b"
      },
      "outputs": [
        {
          "output_type": "stream",
          "name": "stdout",
          "text": [
            "3\n"
          ]
        }
      ],
      "source": [
        "cities = ['New York', 'Beijing', 'Cairo', 'Mumbai', 'Mexico']\n",
        "\n",
        "result = cities.index('Mumbai')\n",
        "print(result)\n"
      ]
    },
    {
      "cell_type": "markdown",
      "metadata": {
        "id": "2eS9GmnoMZeZ"
      },
      "source": [
        "### Iterables"
      ]
    },
    {
      "cell_type": "code",
      "execution_count": 34,
      "metadata": {
        "colab": {
          "base_uri": "https://localhost:8080/"
        },
        "id": "31vXjTnYMZea",
        "outputId": "c49cf7eb-be21-465a-95e3-fe00df5cfee8"
      },
      "outputs": [
        {
          "output_type": "stream",
          "name": "stdout",
          "text": [
            "I\n",
            "t\n",
            "e\n",
            "r\n",
            "a\n",
            "b\n",
            "l\n",
            "e\n",
            "s\n"
          ]
        }
      ],
      "source": [
        "str = 'Iterables'\n",
        "for ch in str:\n",
        "    print(ch)\n"
      ]
    },
    {
      "cell_type": "markdown",
      "metadata": {
        "id": "QbAorSjOMZea"
      },
      "source": [
        "### Transform List Elements with Python map() Function"
      ]
    },
    {
      "cell_type": "code",
      "execution_count": 35,
      "metadata": {
        "id": "ug1G6y_UMZeb"
      },
      "outputs": [],
      "source": [
        "def double(bonus):\n",
        "    return bonus * 2\n",
        "\n",
        "\n",
        "bonuses = [100, 200, 300]\n",
        "\n",
        "iterator = map(double, bonuses)"
      ]
    },
    {
      "cell_type": "markdown",
      "metadata": {
        "id": "1QdaDdsaMZeb"
      },
      "source": [
        "### Filter List Elements"
      ]
    },
    {
      "cell_type": "code",
      "execution_count": 36,
      "metadata": {
        "colab": {
          "base_uri": "https://localhost:8080/"
        },
        "id": "Zmf67J1XMZeb",
        "outputId": "a481eacf-4064-4ffd-a6fe-3b4ee0d6daa0"
      },
      "outputs": [
        {
          "output_type": "stream",
          "name": "stdout",
          "text": [
            "[70, 80, 90]\n"
          ]
        }
      ],
      "source": [
        "scores = [70, 60, 80, 90, 50]\n",
        "filtered = filter(lambda score: score >= 70, scores)\n",
        "\n",
        "print(list(filtered))\n"
      ]
    },
    {
      "cell_type": "markdown",
      "metadata": {
        "id": "-Ko7ldT8MZec"
      },
      "source": [
        "###  Python Reduce() function to Reduce a List into a Single Value"
      ]
    },
    {
      "cell_type": "code",
      "execution_count": 37,
      "metadata": {
        "colab": {
          "base_uri": "https://localhost:8080/"
        },
        "id": "hERxvwr-MZec",
        "outputId": "152b389c-364b-4286-e80c-5a8ec796f54d"
      },
      "outputs": [
        {
          "output_type": "stream",
          "name": "stdout",
          "text": [
            "a=75, b=65, 75 + 65 =140\n",
            "a=140, b=80, 140 + 80 =220\n",
            "a=220, b=95, 220 + 95 =315\n",
            "a=315, b=50, 315 + 50 =365\n",
            "365\n"
          ]
        }
      ],
      "source": [
        "from functools import reduce\n",
        "\n",
        "def sum(a, b):\n",
        "    print(f\"a={a}, b={b}, {a} + {b} ={a+b}\")\n",
        "    return a + b\n",
        "\n",
        "\n",
        "scores = [75, 65, 80, 95, 50]\n",
        "total = reduce(sum, scores)\n",
        "print(total)\n"
      ]
    },
    {
      "cell_type": "markdown",
      "metadata": {
        "id": "wFRsDl2HMZed"
      },
      "source": [
        "### List Comprehensions"
      ]
    },
    {
      "cell_type": "code",
      "execution_count": 38,
      "metadata": {
        "colab": {
          "base_uri": "https://localhost:8080/"
        },
        "id": "l0BDBZy9MZed",
        "outputId": "0247a615-9eab-4046-bbc8-dbf1fd25cf01"
      },
      "outputs": [
        {
          "output_type": "stream",
          "name": "stdout",
          "text": [
            "[1, 4, 9, 16, 25]\n"
          ]
        }
      ],
      "source": [
        "numbers = [1, 2, 3, 4, 5]\n",
        "squares = [number**2 for number in numbers]\n",
        "\n",
        "print(squares)"
      ]
    },
    {
      "cell_type": "markdown",
      "metadata": {
        "id": "Eut8-whMMZed"
      },
      "source": [
        "## Section 6: Dictionaries"
      ]
    },
    {
      "cell_type": "markdown",
      "metadata": {
        "id": "AiCreA92MZee"
      },
      "source": [
        "### Dictionary"
      ]
    },
    {
      "cell_type": "code",
      "execution_count": 39,
      "metadata": {
        "colab": {
          "base_uri": "https://localhost:8080/"
        },
        "id": "ZWJvKuJ3MZee",
        "outputId": "aebf76d2-7d53-4ff2-e6b3-98253a8fcd47"
      },
      "outputs": [
        {
          "output_type": "stream",
          "name": "stdout",
          "text": [
            "John\n",
            "Doe\n"
          ]
        }
      ],
      "source": [
        "person = {\n",
        "    'first_name': 'John',\n",
        "    'last_name': 'Doe',\n",
        "    'age': 25,\n",
        "    'favorite_colors': ['blue', 'green'],\n",
        "    'active': True\n",
        "}\n",
        "print(person['first_name'])\n",
        "print(person['last_name'])"
      ]
    },
    {
      "cell_type": "markdown",
      "metadata": {
        "id": "68oAE99cMZee"
      },
      "source": [
        "### Dictionary Comprehension"
      ]
    },
    {
      "cell_type": "code",
      "execution_count": 40,
      "metadata": {
        "colab": {
          "base_uri": "https://localhost:8080/"
        },
        "id": "HXcoHLqyMZef",
        "outputId": "e77b19b0-40c5-4372-de70-c93ca22d4edd"
      },
      "outputs": [
        {
          "output_type": "stream",
          "name": "stdout",
          "text": [
            "{'AAPL': 123.42, 'AMZN': 3447.6, 'MSFT': 223.38, 'BIIB': 285.6, 'QDEL': 271.32, 'LVGO': 146.88}\n"
          ]
        }
      ],
      "source": [
        "stocks = {\n",
        "    'AAPL': 121,\n",
        "    'AMZN': 3380,\n",
        "    'MSFT': 219,\n",
        "    'BIIB': 280,\n",
        "    'QDEL': 266,\n",
        "    'LVGO': 144\n",
        "}\n",
        "\n",
        "new_stocks = {}\n",
        "for symbol, price in stocks.items():\n",
        "    new_stocks[symbol] = price*1.02\n",
        "\n",
        "print(new_stocks)\n"
      ]
    },
    {
      "cell_type": "markdown",
      "metadata": {
        "id": "trpNj8SWMZef"
      },
      "source": [
        "## Section 7: Sets"
      ]
    },
    {
      "cell_type": "markdown",
      "metadata": {
        "id": "TgjqIwatMZeg"
      },
      "source": [
        "### Set"
      ]
    },
    {
      "cell_type": "code",
      "execution_count": 41,
      "metadata": {
        "colab": {
          "base_uri": "https://localhost:8080/"
        },
        "id": "vk4Tol8GMZeg",
        "outputId": "d8c9eae5-9c5b-4b6c-d25e-13d5deff3297"
      },
      "outputs": [
        {
          "output_type": "stream",
          "name": "stdout",
          "text": [
            "{'Problem solving', 'Critical Thinking'}\n"
          ]
        }
      ],
      "source": [
        "skills = set(['Problem solving','Critical Thinking'])\n",
        "print(skills)"
      ]
    },
    {
      "cell_type": "markdown",
      "metadata": {
        "id": "Gog17xHBMZeh"
      },
      "source": [
        "### Set comprehension"
      ]
    },
    {
      "cell_type": "code",
      "execution_count": 42,
      "metadata": {
        "colab": {
          "base_uri": "https://localhost:8080/"
        },
        "id": "AGn_AleOMZeh",
        "outputId": "01c93e74-38c5-4adf-afff-46507d5e3dc0"
      },
      "outputs": [
        {
          "output_type": "stream",
          "name": "stdout",
          "text": [
            "{'django', 'pandas'}\n"
          ]
        }
      ],
      "source": [
        "tags = {'Django', 'Pandas', 'Numpy'}\n",
        "new_tags = {tag.lower() for tag in tags if tag != 'Numpy'}\n",
        "\n",
        "print(new_tags)\n"
      ]
    },
    {
      "cell_type": "markdown",
      "metadata": {
        "id": "TO_5d3lCMZeh"
      },
      "source": [
        "### Set Union"
      ]
    },
    {
      "cell_type": "code",
      "execution_count": 43,
      "metadata": {
        "colab": {
          "base_uri": "https://localhost:8080/"
        },
        "id": "Awx_XcN0MZei",
        "outputId": "46715f01-9f90-463f-f1aa-0e945a23eee4"
      },
      "outputs": [
        {
          "output_type": "stream",
          "name": "stdout",
          "text": [
            "{'Java', 'Python', 'C#'}\n"
          ]
        }
      ],
      "source": [
        "s1 = {'Python', 'Java'}\n",
        "s2 = {'C#', 'Java'}\n",
        "\n",
        "s = s1.union(s2)\n",
        "\n",
        "print(s)"
      ]
    },
    {
      "cell_type": "markdown",
      "metadata": {
        "id": "TEurJQujMZei"
      },
      "source": [
        "### Set Intersection"
      ]
    },
    {
      "cell_type": "code",
      "execution_count": 44,
      "metadata": {
        "colab": {
          "base_uri": "https://localhost:8080/"
        },
        "id": "9gxeIq-WMZei",
        "outputId": "c61c4634-67f5-4658-8114-e509bcb2ddd5"
      },
      "outputs": [
        {
          "output_type": "stream",
          "name": "stdout",
          "text": [
            "{'Java', 'C++'}\n"
          ]
        }
      ],
      "source": [
        "s1 = {'Python', 'Java', 'C++'}\n",
        "s2 = {'C#', 'Java', 'C++'}\n",
        "\n",
        "s = s1.intersection(s2)\n",
        "\n",
        "print(s)\n"
      ]
    },
    {
      "cell_type": "markdown",
      "metadata": {
        "id": "ILSa111IMZej"
      },
      "source": [
        "### Set Difference"
      ]
    },
    {
      "cell_type": "code",
      "execution_count": 45,
      "metadata": {
        "colab": {
          "base_uri": "https://localhost:8080/"
        },
        "id": "ZwDrCy3uMZej",
        "outputId": "d90cffb4-68db-4474-e60d-2c5201ecd315"
      },
      "outputs": [
        {
          "output_type": "stream",
          "name": "stdout",
          "text": [
            "{'Python'}\n"
          ]
        }
      ],
      "source": [
        "s1 = {'Python', 'Java', 'C++'}\n",
        "s2 = {'C#', 'Java', 'C++'}\n",
        "s = s1.difference(s2)\n",
        "\n",
        "print(s)"
      ]
    },
    {
      "cell_type": "markdown",
      "metadata": {
        "id": "1bAcViDyMZej"
      },
      "source": [
        "### Symmetric Difference"
      ]
    },
    {
      "cell_type": "code",
      "execution_count": 46,
      "metadata": {
        "colab": {
          "base_uri": "https://localhost:8080/"
        },
        "id": "Mb6q6gknMZek",
        "outputId": "85c21084-7b91-47d1-851a-5ca275876027"
      },
      "outputs": [
        {
          "output_type": "stream",
          "name": "stdout",
          "text": [
            "{'Python', 'C#'}\n"
          ]
        }
      ],
      "source": [
        "s1 = {'Python', 'Java', 'C++'}\n",
        "s2 = {'C#', 'Java', 'C++'}\n",
        "\n",
        "s = s1.symmetric_difference(s2)\n",
        "\n",
        "print(s)\n"
      ]
    },
    {
      "cell_type": "markdown",
      "metadata": {
        "id": "qEqcLZYqMZek"
      },
      "source": [
        "### issubset"
      ]
    },
    {
      "cell_type": "code",
      "execution_count": 47,
      "metadata": {
        "colab": {
          "base_uri": "https://localhost:8080/"
        },
        "id": "Eb131D8EMZek",
        "outputId": "6d709316-b608-40c2-b869-4df0d9ae2d15"
      },
      "outputs": [
        {
          "output_type": "stream",
          "name": "stdout",
          "text": [
            "True\n"
          ]
        }
      ],
      "source": [
        "numbers = {1, 2, 3, 4, 5}\n",
        "scores = {1, 2, 3}\n",
        "\n",
        "print(scores.issubset(numbers))"
      ]
    },
    {
      "cell_type": "markdown",
      "metadata": {
        "id": "g3j1J3hoMZel"
      },
      "source": [
        "### issuperset"
      ]
    },
    {
      "cell_type": "code",
      "execution_count": 48,
      "metadata": {
        "colab": {
          "base_uri": "https://localhost:8080/"
        },
        "id": "E_41dqJXMZel",
        "outputId": "53682b2d-ccd5-42a8-a97d-6712032781d4"
      },
      "outputs": [
        {
          "output_type": "stream",
          "name": "stdout",
          "text": [
            "True\n"
          ]
        }
      ],
      "source": [
        "numbers = {1, 2, 3, 4, 5}\n",
        "scores = {1, 2, 3}\n",
        "\n",
        "result = numbers.issuperset(scores)\n",
        "\n",
        "print(result)"
      ]
    },
    {
      "cell_type": "markdown",
      "metadata": {
        "id": "TOeONpwHMZem"
      },
      "source": [
        "### Disjoint Sets"
      ]
    },
    {
      "cell_type": "code",
      "execution_count": 49,
      "metadata": {
        "colab": {
          "base_uri": "https://localhost:8080/"
        },
        "id": "uLjQE3zrMZen",
        "outputId": "562ff5d5-dc2d-4ef6-9eb8-9c7df9c608f8"
      },
      "outputs": [
        {
          "output_type": "stream",
          "name": "stdout",
          "text": [
            "True\n"
          ]
        }
      ],
      "source": [
        "odd_numbers = {1, 3, 5}\n",
        "even_numbers = {2, 4, 6}\n",
        "\n",
        "result = odd_numbers.isdisjoint(even_numbers)\n",
        "\n",
        "print(result)\n"
      ]
    },
    {
      "cell_type": "markdown",
      "metadata": {
        "id": "6jtYLAv-MZen"
      },
      "source": [
        "## Section 8: Exception handling"
      ]
    },
    {
      "cell_type": "markdown",
      "metadata": {
        "id": "1UQHAONmMZeo"
      },
      "source": [
        "### try…except"
      ]
    },
    {
      "cell_type": "code",
      "execution_count": 50,
      "metadata": {
        "colab": {
          "base_uri": "https://localhost:8080/"
        },
        "id": "Gl_JBECqMZep",
        "outputId": "eedb41f2-c5cb-489c-d021-2eddeecf980b"
      },
      "outputs": [
        {
          "output_type": "stream",
          "name": "stdout",
          "text": [
            "Enter the net sales for\n",
            "- Prior period:30000\n",
            "- Current period:5000\n",
            "Sales decrease 83.33333333333333%\n"
          ]
        }
      ],
      "source": [
        "# get input net sales\n",
        "print('Enter the net sales for')\n",
        "\n",
        "previous = float(input('- Prior period:'))\n",
        "current = float(input('- Current period:'))\n",
        "\n",
        "# calculate the change in percentage\n",
        "change = (current - previous) * 100 / previous\n",
        "\n",
        "# show the result\n",
        "if change > 0:\n",
        "    result = f'Sales increase {abs(change)}%'\n",
        "else:\n",
        "    result = f'Sales decrease {abs(change)}%'\n",
        "\n",
        "print(result)"
      ]
    },
    {
      "cell_type": "markdown",
      "metadata": {
        "id": "EnLyno1ZMZep"
      },
      "source": [
        "### try…except…finally"
      ]
    },
    {
      "cell_type": "code",
      "execution_count": 51,
      "metadata": {
        "colab": {
          "base_uri": "https://localhost:8080/"
        },
        "id": "ca2ZQpSNMZeq",
        "outputId": "f5549840-7a2f-44bd-eafe-ab0e7e642abc"
      },
      "outputs": [
        {
          "output_type": "stream",
          "name": "stdout",
          "text": [
            "division by zero\n",
            "Finishing up.\n"
          ]
        }
      ],
      "source": [
        "a = 10\n",
        "b = 0\n",
        "\n",
        "try:\n",
        "    c = a / b\n",
        "    print(c)\n",
        "except ZeroDivisionError as error:\n",
        "    print(error)\n",
        "finally:\n",
        "    print('Finishing up.')\n"
      ]
    },
    {
      "cell_type": "markdown",
      "metadata": {
        "id": "jhtK-f7lMZer"
      },
      "source": [
        "### try…except…else"
      ]
    },
    {
      "cell_type": "code",
      "execution_count": 52,
      "metadata": {
        "colab": {
          "base_uri": "https://localhost:8080/"
        },
        "id": "nZZZtl43MZer",
        "outputId": "ee38e8be-def2-46bc-a937-65b3c39a2f2c"
      },
      "outputs": [
        {
          "output_type": "stream",
          "name": "stdout",
          "text": [
            "Enter your height (meters):160\n",
            "Enter your weight (kilograms):70\n",
            "Your body mass index is 0.0\n",
            "This is considered underweight!\n"
          ]
        }
      ],
      "source": [
        "def calculate_bmi(height, weight):\n",
        "    \"\"\" calculate body mass index (BMI) \"\"\"\n",
        "    return weight / height**2\n",
        "\n",
        "\n",
        "def evaluate_bmi(bmi):\n",
        "    \"\"\" evaluate the bmi \"\"\"\n",
        "    if 18.5 <= bmi <= 24.9:\n",
        "        return 'healthy'\n",
        "\n",
        "    if bmi >= 25:\n",
        "        return 'overweight'\n",
        "\n",
        "    return 'underweight'\n",
        "\n",
        "\n",
        "def main():\n",
        "    try:\n",
        "        height = float(input('Enter your height (meters):'))\n",
        "        weight = float(input('Enter your weight (kilograms):'))\n",
        "\n",
        "    except ValueError as error:\n",
        "        print(error)\n",
        "    else:\n",
        "        bmi = round(calculate_bmi(height, weight), 1)\n",
        "        evaluation = evaluate_bmi(bmi)\n",
        "\n",
        "        print(f'Your body mass index is {bmi}')\n",
        "        print(f'This is considered {evaluation}!')\n",
        "\n",
        "main()"
      ]
    },
    {
      "cell_type": "markdown",
      "metadata": {
        "id": "uWcP4UrBMZes"
      },
      "source": [
        "## Section 9: More on Python Loops"
      ]
    },
    {
      "cell_type": "markdown",
      "metadata": {
        "id": "_hacNu4VMZes"
      },
      "source": [
        "### for else"
      ]
    },
    {
      "cell_type": "code",
      "execution_count": 53,
      "metadata": {
        "colab": {
          "base_uri": "https://localhost:8080/"
        },
        "id": "_CWSqNJZMZet",
        "outputId": "bed73295-96d5-4841-f2c9-bfaa5f6ba10e"
      },
      "outputs": [
        {
          "output_type": "stream",
          "name": "stdout",
          "text": [
            "Enter a name:sai\n",
            "sai not found!\n"
          ]
        }
      ],
      "source": [
        "people = [{'name': 'John', 'age': 25},\n",
        "        {'name': 'Jane', 'age': 22},\n",
        "        {'name': 'Peter', 'age': 30},\n",
        "        {'name': 'Jenifer', 'age': 28}]\n",
        "\n",
        "name = input('Enter a name:')\n",
        "\n",
        "for person in people:\n",
        "    if person['name'] == name:\n",
        "        print(person)\n",
        "        break\n",
        "else:\n",
        "    print(f'{name} not found!')"
      ]
    },
    {
      "cell_type": "markdown",
      "metadata": {
        "id": "2gZkXYqHMZet"
      },
      "source": [
        "### while else  "
      ]
    },
    {
      "cell_type": "code",
      "execution_count": 54,
      "metadata": {
        "colab": {
          "base_uri": "https://localhost:8080/"
        },
        "id": "vl3yAaJFMZeu",
        "outputId": "3bca31a4-d311-4807-db5b-23024373f1d5"
      },
      "outputs": [
        {
          "output_type": "stream",
          "name": "stdout",
          "text": [
            "Enter a fruit:orange\n",
            "The basket has 10 orange(s)\n"
          ]
        }
      ],
      "source": [
        "basket = [\n",
        "    {'fruit': 'apple', 'qty': 20},\n",
        "    {'fruit': 'banana', 'qty': 30},\n",
        "    {'fruit': 'orange', 'qty': 10}\n",
        "]\n",
        "\n",
        "fruit = input('Enter a fruit:')\n",
        "\n",
        "index = 0\n",
        "\n",
        "while index < len(basket):\n",
        "    item = basket[index]\n",
        "    # check the fruit name\n",
        "    if item['fruit'] == fruit:\n",
        "        print(f\"The basket has {item['qty']} {item['fruit']}(s)\")\n",
        "        found_it = True\n",
        "        break\n",
        "\n",
        "    index += 1\n",
        "else:\n",
        "    qty = int(input(f'Enter the qty for {fruit}:'))\n",
        "    basket.append({'fruit': fruit, 'qty': qty})\n",
        "    print(basket)\n"
      ]
    },
    {
      "cell_type": "markdown",
      "metadata": {
        "id": "ym1IL8FYMZeu"
      },
      "source": [
        "### do…while Loop Statement Emulation"
      ]
    },
    {
      "cell_type": "code",
      "execution_count": 55,
      "metadata": {
        "colab": {
          "base_uri": "https://localhost:8080/"
        },
        "id": "2lv9UG4tMZeu",
        "outputId": "08fc16ce-1392-4eba-8e72-c88ce626a2c9"
      },
      "outputs": [
        {
          "output_type": "stream",
          "name": "stdout",
          "text": [
            "Enter a number between 0 and 10:5\n",
            "It should be smaller.\n",
            "Enter a number between 0 and 10:6\n",
            "It should be smaller.\n",
            "Enter a number between 0 and 10:8\n",
            "It should be smaller.\n",
            "Enter a number between 0 and 10:9\n",
            "It should be smaller.\n",
            "Enter a number between 0 and 10:3\n",
            "Bingo! 5 attempt(s)\n"
          ]
        }
      ],
      "source": [
        "from random import randint\n",
        "\n",
        "# determine the range\n",
        "MIN = 0\n",
        "MAX = 10\n",
        "\n",
        "# generate a secret number\n",
        "secret_number = randint(MIN, MAX)\n",
        "\n",
        "# initialize the attempt\n",
        "attempt = 0\n",
        "\n",
        "while True:\n",
        "    attempt += 1\n",
        "\n",
        "    input_number = int(input(f'Enter a number between {MIN} and {MAX}:'))\n",
        "\n",
        "    if input_number > secret_number:\n",
        "        print('It should be smaller.')\n",
        "    elif input_number < secret_number:\n",
        "        print('It should be bigger.')\n",
        "    else:\n",
        "        print(f'Bingo! {attempt} attempt(s)')\n",
        "        break\n"
      ]
    },
    {
      "cell_type": "markdown",
      "metadata": {
        "id": "DyBZfXmVMZev"
      },
      "source": [
        "## Section 10: More on Python functions"
      ]
    },
    {
      "cell_type": "markdown",
      "metadata": {
        "id": "096qRR4qMZev"
      },
      "source": [
        "### Unpacking Tuple"
      ]
    },
    {
      "cell_type": "code",
      "execution_count": 56,
      "metadata": {
        "colab": {
          "base_uri": "https://localhost:8080/"
        },
        "id": "paLEdXAYMZev",
        "outputId": "bac4b76f-07e5-44b7-af11-774cd29163b0"
      },
      "outputs": [
        {
          "output_type": "stream",
          "name": "stdout",
          "text": [
            "(1, 3, 5, 2, 4, 6)\n"
          ]
        }
      ],
      "source": [
        "odd_numbers = (1, 3, 5)\n",
        "even_numbers = (2, 4, 6)\n",
        "\n",
        "numbers = (*odd_numbers, *even_numbers)\n",
        "print(numbers)"
      ]
    },
    {
      "cell_type": "markdown",
      "metadata": {
        "id": "NskJiZwCMZew"
      },
      "source": [
        "### *args"
      ]
    },
    {
      "cell_type": "code",
      "execution_count": 57,
      "metadata": {
        "colab": {
          "base_uri": "https://localhost:8080/"
        },
        "id": "ZKUGqk_tMZew",
        "outputId": "02aafac7-f14d-428f-dbdc-234cd79d8be4"
      },
      "outputs": [
        {
          "output_type": "stream",
          "name": "stdout",
          "text": [
            "100\n"
          ]
        }
      ],
      "source": [
        "\n",
        "def add(x, y, *args):\n",
        "    total = x + y\n",
        "    for arg in args:\n",
        "        total += arg\n",
        "\n",
        "    return total\n",
        "\n",
        "\n",
        "result = add(10, 20, 30, 40)\n",
        "print(result)"
      ]
    },
    {
      "cell_type": "markdown",
      "metadata": {
        "id": "iJRTYQ6CMZex"
      },
      "source": [
        "### **kwargs"
      ]
    },
    {
      "cell_type": "code",
      "execution_count": 58,
      "metadata": {
        "colab": {
          "base_uri": "https://localhost:8080/"
        },
        "id": "ptO7MhCIMZex",
        "outputId": "a6c0291f-ef1a-4505-a5e1-3b0cc3906cc9"
      },
      "outputs": [
        {
          "output_type": "stream",
          "name": "stdout",
          "text": [
            "{'server': 'localhost', 'port': 3306, 'user': 'root', 'password': 'Py1thon!Xt12'}\n"
          ]
        }
      ],
      "source": [
        "def connect(**kwargs):\n",
        "    print(kwargs)\n",
        "\n",
        "\n",
        "config = {'server': 'localhost',\n",
        "        'port': 3306,\n",
        "        'user': 'root',\n",
        "        'password': 'Py1thon!Xt12'}\n",
        "\n",
        "connect(**config)"
      ]
    },
    {
      "cell_type": "markdown",
      "metadata": {
        "id": "WKjmRyFWMZex"
      },
      "source": [
        "### Partial Functions"
      ]
    },
    {
      "cell_type": "code",
      "execution_count": 59,
      "metadata": {
        "colab": {
          "base_uri": "https://localhost:8080/"
        },
        "id": "vGI-NOleMZey",
        "outputId": "d0d84961-9794-49d9-c750-eef976dfb96f"
      },
      "outputs": [
        {
          "output_type": "stream",
          "name": "stdout",
          "text": [
            "20\n"
          ]
        }
      ],
      "source": [
        "from functools import partial\n",
        "\n",
        "def multiply(a, b):\n",
        "    return a*b\n",
        "\n",
        "\n",
        "double = partial(multiply, b=2)\n",
        "\n",
        "result = double(10)\n",
        "print(result)\n"
      ]
    },
    {
      "cell_type": "markdown",
      "metadata": {
        "id": "LpmozQGxMZey"
      },
      "source": [
        "### Type Hints"
      ]
    },
    {
      "cell_type": "code",
      "execution_count": 60,
      "metadata": {
        "colab": {
          "base_uri": "https://localhost:8080/"
        },
        "id": "_kil8wMFMZez",
        "outputId": "4e457e99-0831-49b4-e9b0-8a6639a46dc8"
      },
      "outputs": [
        {
          "output_type": "stream",
          "name": "stdout",
          "text": [
            "Hi 123\n"
          ]
        }
      ],
      "source": [
        "def say_hi(name: str) -> str:\n",
        "    return f'Hi {name}'\n",
        "\n",
        "\n",
        "greeting = say_hi(123)\n",
        "print(greeting)"
      ]
    }
  ],
  "metadata": {
    "kernelspec": {
      "display_name": "Python 3",
      "language": "python",
      "name": "python3"
    },
    "language_info": {
      "name": "python",
      "version": "3.11.7"
    },
    "colab": {
      "provenance": []
    }
  },
  "nbformat": 4,
  "nbformat_minor": 0
}
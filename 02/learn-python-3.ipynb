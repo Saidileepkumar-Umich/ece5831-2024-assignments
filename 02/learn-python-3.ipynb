{
  "cells": [
    {
      "cell_type": "markdown",
      "metadata": {
        "id": "bfrsimKJMO2N"
      },
      "source": [
        "# Advanced Python Tutorials\n",
        "This notebook covers advanced topics in Python, including:\n",
        "- Generators\n",
        "- List Comprehensions\n",
        "- Lambda Functions\n",
        "- Multiple Function Arguments"
      ],
      "id": "bfrsimKJMO2N"
    },
    {
      "cell_type": "markdown",
      "metadata": {
        "id": "ZxEVdFTyMO2P"
      },
      "source": [
        "## 1. Generators\n",
        "Generators allow you to iterate over a sequence of values lazily without storing the entire sequence in memory."
      ],
      "id": "ZxEVdFTyMO2P"
    },
    {
      "cell_type": "code",
      "execution_count": 1,
      "metadata": {
        "id": "yDpLDwBqMO2Q",
        "outputId": "45172c85-a382-4771-bb03-459f168dbb0c",
        "colab": {
          "base_uri": "https://localhost:8080/"
        }
      },
      "outputs": [
        {
          "output_type": "stream",
          "name": "stdout",
          "text": [
            "And the next number is... 21!\n",
            "And the next number is... 34!\n",
            "And the next number is... 7!\n",
            "And the next number is... 14!\n",
            "And the next number is... 26!\n",
            "And the next number is... 4!\n",
            "And the next number is... 3!\n"
          ]
        }
      ],
      "source": [
        "import random\n",
        "\n",
        "def lottery():\n",
        "    # returns 6 numbers between 1 and 40\n",
        "    for i in range(6):\n",
        "        yield random.randint(1, 40)\n",
        "\n",
        "    # returns a 7th number between 1 and 15\n",
        "    yield random.randint(1, 15)\n",
        "\n",
        "for random_number in lottery():\n",
        "       print(\"And the next number is... %d!\" %(random_number))"
      ],
      "id": "yDpLDwBqMO2Q"
    },
    {
      "cell_type": "markdown",
      "metadata": {
        "id": "-Kgz6UHjMO2R"
      },
      "source": [
        "## 2. List Comprehensions\n",
        "List comprehensions provide a concise way to create lists using a single line of code."
      ],
      "id": "-Kgz6UHjMO2R"
    },
    {
      "cell_type": "code",
      "execution_count": 2,
      "metadata": {
        "id": "tKSfVfW_MO2S",
        "outputId": "9f25f28f-c3b0-49e7-b3a8-faa035d3d620",
        "colab": {
          "base_uri": "https://localhost:8080/"
        }
      },
      "outputs": [
        {
          "output_type": "stream",
          "name": "stdout",
          "text": [
            "['the', 'quick', 'brown', 'fox', 'jumps', 'over', 'the', 'lazy', 'dog']\n",
            "[5, 5, 3, 5, 4, 4, 3]\n"
          ]
        }
      ],
      "source": [
        "sentence = \"the quick brown fox jumps over the lazy dog\"\n",
        "words = sentence.split()\n",
        "word_lengths = []\n",
        "for word in words:\n",
        "      if word != \"the\":\n",
        "          word_lengths.append(len(word))\n",
        "print(words)\n",
        "print(word_lengths)"
      ],
      "id": "tKSfVfW_MO2S"
    },
    {
      "cell_type": "markdown",
      "metadata": {
        "id": "KQUeTJQLMO2S"
      },
      "source": [
        "## 3. Lambda Functions\n",
        "Lambda functions are small anonymous functions defined with the `lambda` keyword."
      ],
      "id": "KQUeTJQLMO2S"
    },
    {
      "cell_type": "code",
      "execution_count": 3,
      "metadata": {
        "id": "6KPTovQqMO2T",
        "outputId": "7903d7d4-6391-428e-9c78-0240386a48ea",
        "colab": {
          "base_uri": "https://localhost:8080/"
        }
      },
      "outputs": [
        {
          "output_type": "stream",
          "name": "stdout",
          "text": [
            "5\n"
          ]
        }
      ],
      "source": [
        "# Lambda function to add two numbers\n",
        "add = lambda x, y: x + y\n",
        "print(add(2, 3))"
      ],
      "id": "6KPTovQqMO2T"
    },
    {
      "cell_type": "markdown",
      "metadata": {
        "id": "uu1vL4ncMO2T"
      },
      "source": [
        "## 4. Multiple Function Arguments\n",
        "In Python, functions can accept any number of positional and keyword arguments using `*args` and `**kwargs`."
      ],
      "id": "uu1vL4ncMO2T"
    },
    {
      "cell_type": "code",
      "execution_count": 4,
      "metadata": {
        "id": "goB_mX3UMO2T",
        "outputId": "7cbdd84e-a725-4946-a59c-b91d09874e22",
        "colab": {
          "base_uri": "https://localhost:8080/"
        }
      },
      "outputs": [
        {
          "output_type": "stream",
          "name": "stdout",
          "text": [
            "Positional arguments: (1, 2, 3)\n",
            "Keyword arguments: {'name': 'John', 'age': 25}\n"
          ]
        }
      ],
      "source": [
        "def my_function(*args, **kwargs):\n",
        "    print(\"Positional arguments:\", args)\n",
        "    print(\"Keyword arguments:\", kwargs)\n",
        "\n",
        "my_function(1, 2, 3, name='John', age=25)"
      ],
      "id": "goB_mX3UMO2T"
    },
    {
      "cell_type": "markdown",
      "metadata": {
        "id": "lvK2ZVLeMO2U"
      },
      "source": [
        "## 5. Regular Expressions\n",
        "Regular expressions (regex) allow you to search for patterns in strings."
      ],
      "id": "lvK2ZVLeMO2U"
    },
    {
      "cell_type": "code",
      "execution_count": 5,
      "metadata": {
        "id": "VIZY_pnuMO2U",
        "outputId": "35814b69-8602-4582-a79d-f69b431a83c2",
        "colab": {
          "base_uri": "https://localhost:8080/"
        }
      },
      "outputs": [
        {
          "output_type": "stream",
          "name": "stdout",
          "text": [
            "Match found!\n"
          ]
        }
      ],
      "source": [
        "import re\n",
        "\n",
        "# Check if a string starts with 'Hello'\n",
        "pattern = r'^Hello'\n",
        "if re.match(pattern, 'Hello, World!'):\n",
        "    print(\"Match found!\")\n",
        "else:\n",
        "    print(\"No match found.\")"
      ],
      "id": "VIZY_pnuMO2U"
    },
    {
      "cell_type": "markdown",
      "metadata": {
        "id": "daUlwM_zMO2V"
      },
      "source": [
        "## 6. Exception Handling\n",
        "In Python, exceptions can be handled using the `try-except` block."
      ],
      "id": "daUlwM_zMO2V"
    },
    {
      "cell_type": "code",
      "execution_count": 6,
      "metadata": {
        "id": "ZBeC4mH7MO2V",
        "outputId": "4b6be378-93aa-457f-9b7c-0cf97376bde1",
        "colab": {
          "base_uri": "https://localhost:8080/"
        }
      },
      "outputs": [
        {
          "output_type": "stream",
          "name": "stdout",
          "text": [
            "Cannot divide by zero!\n",
            "This will always execute.\n"
          ]
        }
      ],
      "source": [
        "try:\n",
        "    result = 10 / 0\n",
        "except ZeroDivisionError:\n",
        "    print(\"Cannot divide by zero!\")\n",
        "finally:\n",
        "    print(\"This will always execute.\")"
      ],
      "id": "ZBeC4mH7MO2V"
    },
    {
      "cell_type": "markdown",
      "metadata": {
        "id": "WgncpSlcMO2V"
      },
      "source": [
        "## 7. Sets\n",
        "Sets are collections of unique elements. They are useful for membership testing and removing duplicates."
      ],
      "id": "WgncpSlcMO2V"
    },
    {
      "cell_type": "code",
      "execution_count": 7,
      "metadata": {
        "id": "CJA8r1iWMO2W",
        "outputId": "14e6af5e-d370-4733-ac42-57afd4db9df1",
        "colab": {
          "base_uri": "https://localhost:8080/"
        }
      },
      "outputs": [
        {
          "output_type": "stream",
          "name": "stdout",
          "text": [
            "{'is', 'the', 'Dileep', 'a', \"i'm\", 'my', 'of', 'student', 'name', 'UMICH', 'and'}\n"
          ]
        }
      ],
      "source": [
        "print(set(\"my name is Dileep and i'm a student of the UMICH\".split()))"
      ],
      "id": "CJA8r1iWMO2W"
    },
    {
      "cell_type": "markdown",
      "metadata": {
        "id": "MidbJC3vMO2W"
      },
      "source": [
        "## 8. Serialization\n",
        "Serialization allows you to convert objects into a format that can be saved to a file or transmitted over a network."
      ],
      "id": "MidbJC3vMO2W"
    },
    {
      "cell_type": "code",
      "execution_count": 8,
      "metadata": {
        "id": "oEnKJA0dMO2W",
        "outputId": "1d2ecd8a-e745-472b-ffaa-9d3fb1581ef6",
        "colab": {
          "base_uri": "https://localhost:8080/"
        }
      },
      "outputs": [
        {
          "output_type": "stream",
          "name": "stdout",
          "text": [
            "{\"name\": \"John\", \"age\": 25}\n"
          ]
        }
      ],
      "source": [
        "import json\n",
        "data = {'name': 'John', 'age': 25}\n",
        "json_data = json.dumps(data)\n",
        "print(json_data)"
      ],
      "id": "oEnKJA0dMO2W"
    },
    {
      "cell_type": "markdown",
      "metadata": {
        "id": "W3yhX_kkMO2X"
      },
      "source": [
        "## 9. Partial Functions\n",
        "Partial functions allow you to fix a certain number of arguments in a function, creating a new function."
      ],
      "id": "W3yhX_kkMO2X"
    },
    {
      "cell_type": "code",
      "execution_count": 9,
      "metadata": {
        "id": "QnlSuQaHMO2X",
        "outputId": "c073b51b-ac6c-4a3f-d558-36ee0cf6e845",
        "colab": {
          "base_uri": "https://localhost:8080/"
        }
      },
      "outputs": [
        {
          "output_type": "stream",
          "name": "stdout",
          "text": [
            "10\n"
          ]
        }
      ],
      "source": [
        "from functools import partial\n",
        "\n",
        "def multiply(x, y):\n",
        "    return x * y\n",
        "\n",
        "double = partial(multiply, 2)\n",
        "print(double(5))  # Output: 10"
      ],
      "id": "QnlSuQaHMO2X"
    },
    {
      "cell_type": "markdown",
      "metadata": {
        "id": "Z1fuKXPNMO2X"
      },
      "source": [
        "## 10. Code Introspection\n",
        "Python provides several functions to obtain information about objects, such as `dir()`, `type()`, `help()`."
      ],
      "id": "Z1fuKXPNMO2X"
    },
    {
      "cell_type": "code",
      "execution_count": 10,
      "metadata": {
        "id": "fPSkpwkbMO2Y",
        "outputId": "ca2c4041-80c0-42ae-efac-bf1e673dc3f0",
        "colab": {
          "base_uri": "https://localhost:8080/"
        }
      },
      "outputs": [
        {
          "output_type": "stream",
          "name": "stdout",
          "text": [
            "['__add__', '__class__', '__class_getitem__', '__contains__', '__delattr__', '__delitem__', '__dir__', '__doc__', '__eq__', '__format__', '__ge__', '__getattribute__', '__getitem__', '__gt__', '__hash__', '__iadd__', '__imul__', '__init__', '__init_subclass__', '__iter__', '__le__', '__len__', '__lt__', '__mul__', '__ne__', '__new__', '__reduce__', '__reduce_ex__', '__repr__', '__reversed__', '__rmul__', '__setattr__', '__setitem__', '__sizeof__', '__str__', '__subclasshook__', 'append', 'clear', 'copy', 'count', 'extend', 'index', 'insert', 'pop', 'remove', 'reverse', 'sort']\n"
          ]
        }
      ],
      "source": [
        "print(dir([]))  # Lists all attributes of list objects"
      ],
      "id": "fPSkpwkbMO2Y"
    },
    {
      "cell_type": "markdown",
      "metadata": {
        "id": "czZQjdNLMO2Y"
      },
      "source": [
        "## 11. Closures\n",
        "A closure is a function that remembers the environment in which it was created, even after the outer function has finished executing."
      ],
      "id": "czZQjdNLMO2Y"
    },
    {
      "cell_type": "code",
      "execution_count": 11,
      "metadata": {
        "id": "gIYWzcihMO2Y",
        "outputId": "b988c80d-6025-4ab2-e0d9-f9a7ade569b8",
        "colab": {
          "base_uri": "https://localhost:8080/"
        }
      },
      "outputs": [
        {
          "output_type": "stream",
          "name": "stdout",
          "text": [
            "10\n"
          ]
        }
      ],
      "source": [
        "def outer_function(x):\n",
        "    def inner_function():\n",
        "        return x\n",
        "    return inner_function\n",
        "\n",
        "closure = outer_function(10)\n",
        "print(closure())  # Output: 10"
      ],
      "id": "gIYWzcihMO2Y"
    },
    {
      "cell_type": "markdown",
      "metadata": {
        "id": "UoGPDVtgMO2Z"
      },
      "source": [
        "## 12. Decorators\n",
        "Decorators allow you to modify the behavior of functions or methods. They are written with the `@decorator_name` syntax."
      ],
      "id": "UoGPDVtgMO2Z"
    },
    {
      "cell_type": "code",
      "execution_count": 12,
      "metadata": {
        "id": "lsBaUstgMO2Z",
        "outputId": "60e96827-3051-4031-a80e-3f9f50ea8fad",
        "colab": {
          "base_uri": "https://localhost:8080/"
        }
      },
      "outputs": [
        {
          "output_type": "stream",
          "name": "stdout",
          "text": [
            "Something is happening before the function is called.\n",
            "Hello!\n",
            "Something is happening after the function is called.\n"
          ]
        }
      ],
      "source": [
        "def my_decorator(func):\n",
        "    def wrapper():\n",
        "        print(\"Something is happening before the function is called.\")\n",
        "        func()\n",
        "        print(\"Something is happening after the function is called.\")\n",
        "    return wrapper\n",
        "\n",
        "@my_decorator\n",
        "def say_hello():\n",
        "    print(\"Hello!\")\n",
        "\n",
        "say_hello()"
      ],
      "id": "lsBaUstgMO2Z"
    },
    {
      "cell_type": "markdown",
      "metadata": {
        "id": "jXRadeTpMO2Z"
      },
      "source": [
        "## 13. Map, Filter, Reduce\n",
        "These functions are used to apply a function to sequences. `map()` applies a function to all elements, `filter()` filters based on a condition, and `reduce()` reduces the sequence to a single value."
      ],
      "id": "jXRadeTpMO2Z"
    },
    {
      "cell_type": "code",
      "execution_count": 13,
      "metadata": {
        "id": "JMvBgU66MO2Z",
        "outputId": "d79408c3-714b-4ef2-9b08-21e7e20b0667",
        "colab": {
          "base_uri": "https://localhost:8080/"
        }
      },
      "outputs": [
        {
          "output_type": "stream",
          "name": "stdout",
          "text": [
            "[1, 4, 9, 16]\n",
            "[2, 4]\n",
            "10\n"
          ]
        }
      ],
      "source": [
        "from functools import reduce\n",
        "\n",
        "# Example of map\n",
        "numbers = [1, 2, 3, 4]\n",
        "squared = list(map(lambda x: x**2, numbers))\n",
        "print(squared)\n",
        "\n",
        "# Example of filter\n",
        "even_numbers = list(filter(lambda x: x % 2 == 0, numbers))\n",
        "print(even_numbers)\n",
        "\n",
        "# Example of reduce\n",
        "sum_of_numbers = reduce(lambda x, y: x + y, numbers)\n",
        "print(sum_of_numbers)"
      ],
      "id": "JMvBgU66MO2Z"
    }
  ],
  "metadata": {
    "kernelspec": {
      "display_name": "Python 3",
      "language": "python",
      "name": "python3"
    },
    "colab": {
      "provenance": []
    }
  },
  "nbformat": 4,
  "nbformat_minor": 5
}
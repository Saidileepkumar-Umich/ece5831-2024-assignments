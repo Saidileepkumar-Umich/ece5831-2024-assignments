{
 "cells": [
  {
   "cell_type": "markdown",
   "metadata": {},
   "source": [
    "# Data Science with Python - Working with cars.csv"
   ]
  },
  {
   "cell_type": "markdown",
   "id": "27a01fba",
   "metadata": {},
   "source": [
    "# Numpy"
   ]
  },
  {
   "cell_type": "code",
   "execution_count": null,
   "id": "1375ada1",
   "metadata": {},
   "outputs": [],
   "source": [
    "# Import the numpy package as np\n",
    "import numpy as np"
   ]
  },
  {
   "cell_type": "code",
   "execution_count": null,
   "id": "a2b5d938",
   "metadata": {},
   "outputs": [],
   "source": [
    "# Create 2 new lists height and weight\n",
    "height = [1.87,  1.87, 1.82, 1.91, 1.90, 1.85]\n",
    "weight = [81.65, 97.52, 95.25, 92.98, 86.18, 88.45]\n",
    "\n",
    "# Create 2 numpy arrays from height and weight\n",
    "np_height = np.array(height)\n",
    "np_weight = np.array(weight)\n",
    "\n",
    "print(type(np_height))"
   ]
  },
  {
   "cell_type": "markdown",
   "id": "dd24769b",
   "metadata": {},
   "source": [
    "## Element-wise calculations\n"
   ]
  },
  {
   "cell_type": "code",
   "execution_count": null,
   "id": "be157b3f",
   "metadata": {},
   "outputs": [],
   "source": [
    "# Calculate bmi\n",
    "bmi = np_weight / np_height ** 2\n",
    "\n",
    "# Print the result\n",
    "print(bmi)"
   ]
  },
  {
   "cell_type": "markdown",
   "id": "a4285af7",
   "metadata": {},
   "source": [
    "## Subsetting"
   ]
  },
  {
   "cell_type": "code",
   "execution_count": null,
   "id": "84813eca",
   "metadata": {},
   "outputs": [],
   "source": [
    "# For a boolean response    \n",
    "bmi > 23\n",
    "\n",
    "# Print only those observations above 23\n",
    "bmi[bmi > 23]"
   ]
  },
  {
   "cell_type": "markdown",
   "id": "eb1054a4",
   "metadata": {},
   "source": [
    "## Exercise\n",
    "\n",
    "First, convert the list of weights from a list to a Numpy array. Then, convert all of the weights from kilograms to pounds. Use the scalar conversion of 2.2 lbs per kilogram to make your conversion. Lastly, print the resulting array of weights in pounds.\n",
    "\n"
   ]
  },
  {
   "cell_type": "code",
   "execution_count": null,
   "id": "098ff89c",
   "metadata": {},
   "outputs": [],
   "source": [
    "import numpy as np\n",
    "\n",
    "# List of weights in kilograms\n",
    "weight_kg = [81.65, 97.52, 95.25, 92.98, 86.18, 88.45]\n",
    "\n",
    "# Step 1: Convert the list to a Numpy array\n",
    "np_weight_kg = np.array(weight_kg)\n",
    "print(\"Weights in kg: \", np_weight_kg)\n",
    "\n",
    "# Step 2: Convert the weights from kilograms to pounds using the conversion factor 2.2\n",
    "np_weight_lbs = np_weight_kg * 2.2\n",
    "print(\"Weights in lbs: \", np_weight_lbs)\n"
   ]
  },
  {
   "cell_type": "markdown",
   "id": "cf7c5221",
   "metadata": {},
   "source": [
    "# Pandas"
   ]
  },
  {
   "cell_type": "code",
   "execution_count": null,
   "id": "219eaefb",
   "metadata": {},
   "outputs": [],
   "source": [
    "dict = {\"country\": [\"Brazil\", \"Russia\", \"India\", \"China\", \"South Africa\"],\n",
    "       \"capital\": [\"Brasilia\", \"Moscow\", \"New Dehli\", \"Beijing\", \"Pretoria\"],\n",
    "       \"area\": [8.516, 17.10, 3.286, 9.597, 1.221],\n",
    "       \"population\": [200.4, 143.5, 1252, 1357, 52.98] }\n",
    "\n",
    "import pandas as pd\n",
    "brics = pd.DataFrame(dict)\n",
    "print(brics)"
   ]
  },
  {
   "cell_type": "code",
   "execution_count": null,
   "id": "2fdb4076",
   "metadata": {},
   "outputs": [],
   "source": [
    "# Set the index for brics\n",
    "brics.index = [\"BR\", \"RU\", \"IN\", \"CH\", \"SA\"]\n",
    "\n",
    "# Print out brics with new index values\n",
    "print(brics)"
   ]
  },
  {
   "cell_type": "markdown",
   "id": "224428a5",
   "metadata": {},
   "source": [
    "### Working with csv"
   ]
  },
  {
   "cell_type": "code",
   "execution_count": null,
   "id": "32c61e53",
   "metadata": {},
   "outputs": [],
   "source": [
    "# Import pandas as pd\n",
    "import pandas as pd\n",
    "\n",
    "# Import the cars.csv data: cars\n",
    "cars = pd.read_csv('cars.csv')  \n",
    "\n",
    "# Print out cars\n",
    "print(cars)"
   ]
  },
  {
   "cell_type": "markdown",
   "id": "0ddbaf0f",
   "metadata": {},
   "source": [
    "### Indexing"
   ]
  },
  {
   "cell_type": "code",
   "execution_count": null,
   "id": "2319fb58",
   "metadata": {},
   "outputs": [],
   "source": [
    "# Import pandas and cars.csv\n",
    "import pandas as pd\n",
    "cars = pd.read_csv('cars.csv', index_col = 0)\n",
    "\n",
    "# Print out country column as Pandas Series\n",
    "print(cars['cars_per_cap'])\n",
    "\n",
    "# Print out country column as Pandas DataFrame\n",
    "print(cars[['cars_per_cap']])\n",
    "\n",
    "# Print out DataFrame with country and drives_right columns\n",
    "print(cars[['cars_per_cap', 'country']])"
   ]
  },
  {
   "cell_type": "code",
   "execution_count": null,
   "id": "52d54e7a",
   "metadata": {},
   "outputs": [],
   "source": [
    "# Import cars data\n",
    "import pandas as pd\n",
    "cars = pd.read_csv('cars.csv', index_col = 0)\n",
    "\n",
    "# Print out first 4 observations\n",
    "print(cars[0:4])\n",
    "\n",
    "# Print out fifth and sixth observation\n",
    "print(cars[4:6])"
   ]
  },
  {
   "cell_type": "code",
   "execution_count": null,
   "id": "31921d12",
   "metadata": {},
   "outputs": [],
   "source": [
    "# Import cars data\n",
    "import pandas as pd\n",
    "cars = pd.read_csv('cars.csv', index_col = 0)\n",
    "\n",
    "# Print out observation for Japan\n",
    "print(cars.iloc[2])\n",
    "\n",
    "# Print out observations for Australia and Egypt\n",
    "print(cars.loc[['AUS', 'EG']])"
   ]
  }
 ],
 "metadata": {
  "kernelspec": {
   "display_name": "Python 3",
   "language": "python",
   "name": "python3"
  }
 },
 "nbformat": 4,
 "nbformat_minor": 5
}

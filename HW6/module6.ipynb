{
 "cells": [
  {
   "cell_type": "markdown",
   "id": "4a5a971e",
   "metadata": {},
   "source": [
    "# Module 6: Model Training and Evaluation"
   ]
  },
  {
   "cell_type": "markdown",
   "id": "85a014e7",
   "metadata": {},
   "source": [
    "This notebook will load the trained model and test it on the MNIST dataset."
   ]
  },
  {
   "cell_type": "code",
   "execution_count": null,
   "id": "fb014d4b",
   "metadata": {},
   "outputs": [],
   "source": [
    "\n",
    "import pickle\n",
    "import numpy as np\n",
    "import matplotlib.pyplot as plt\n",
    "from two_layer_net_with_back_prop import TwoLayerNetWithBackProp\n",
    "\n",
    "# Load the trained model\n",
    "with open(\"Mukkamala_mnist_model.pkl\", \"rb\") as f:\n",
    "    model = pickle.load(f)\n",
    "    print(\"Model loaded successfully.\")\n"
   ]
  },
  {
   "cell_type": "markdown",
   "id": "6f83a129",
   "metadata": {},
   "source": [
    "## Visualize Training Progress"
   ]
  },
  {
   "cell_type": "code",
   "execution_count": null,
   "id": "d2990ff3",
   "metadata": {},
   "outputs": [],
   "source": [
    "\n",
    "# Placeholder: Replace with actual data during training\n",
    "iterations = range(1, 11)\n",
    "train_acc = [0.8, 0.85, 0.88, 0.89, 0.9, 0.92, 0.93, 0.94, 0.95, 0.96]\n",
    "test_acc = [0.78, 0.83, 0.85, 0.86, 0.87, 0.88, 0.89, 0.9, 0.91, 0.92]\n",
    "\n",
    "# Plot training and test accuracy\n",
    "plt.plot(iterations, train_acc, label=\"Train Accuracy\")\n",
    "plt.plot(iterations, test_acc, label=\"Test Accuracy\")\n",
    "plt.xlabel(\"Epochs\")\n",
    "plt.ylabel(\"Accuracy\")\n",
    "plt.title(\"Training and Test Accuracy over Epochs\")\n",
    "plt.legend()\n",
    "plt.show()\n"
   ]
  },
  {
   "cell_type": "markdown",
   "id": "f48dd6a5",
   "metadata": {},
   "source": [
    "## Evaluate the Model on Test Data"
   ]
  },
  {
   "cell_type": "code",
   "execution_count": null,
   "id": "84c75ebe",
   "metadata": {},
   "outputs": [],
   "source": [
    "\n",
    "from sklearn.datasets import fetch_openml\n",
    "\n",
    "# Load MNIST test data\n",
    "mnist = fetch_openml('mnist_784', version=1)\n",
    "test_data = mnist.data[60000:] / 255.0  # Normalize\n",
    "test_labels = mnist.target[60000:].astype(int)\n",
    "\n",
    "# Test model and calculate accuracy\n",
    "def evaluate_model(model, test_data, test_labels):\n",
    "    correct = 0\n",
    "    for i in range(len(test_data)):\n",
    "        x = test_data[i].reshape(1, -1)\n",
    "        y = model.predict(x)\n",
    "        if np.argmax(y) == test_labels[i]:\n",
    "            correct += 1\n",
    "    accuracy = correct / len(test_data)\n",
    "    print(f\"Test Accuracy: {accuracy * 100:.2f}%\")\n",
    "\n",
    "evaluate_model(model, test_data, test_labels)\n"
   ]
  }
 ],
 "metadata": {},
 "nbformat": 4,
 "nbformat_minor": 5
}

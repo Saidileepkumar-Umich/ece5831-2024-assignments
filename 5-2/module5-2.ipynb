{
  "cells": [
    {
      "cell_type": "markdown",
      "id": "1880c27f",
      "metadata": {
        "id": "1880c27f"
      },
      "source": [
        "# Module 5-2: MnistData Class Implementation\n",
        "\n",
        "This notebook implements the `MnistData` class, along with the softmax function, and demonstrates the functionality of various components."
      ]
    },
    {
      "cell_type": "code",
      "execution_count": 6,
      "id": "c14660dc",
      "metadata": {
        "id": "c14660dc"
      },
      "outputs": [],
      "source": [
        "import numpy as np\n",
        "import os\n",
        "import gzip\n",
        "import pickle\n",
        "import matplotlib.pyplot as plt\n",
        "from tensorflow.keras.datasets import mnist\n",
        "\n",
        "class MnistData:\n",
        "    def __init__(self):\n",
        "        self.train_images = None\n",
        "        self.train_labels = None\n",
        "        self.test_images = None\n",
        "        self.test_labels = None\n",
        "        self.dataset_path = './mnist.pkl'\n",
        "        self._init_dataset()\n",
        "\n",
        "    def _download(self, url, filename):\n",
        "        \"\"\" Placeholder function for downloading dataset files \"\"\"\n",
        "        print(f\"Placeholder: Would download {filename} from {url}\")\n",
        "\n",
        "    def _download_all(self):\n",
        "        \"\"\" Placeholder function for downloading all dataset files \"\"\"\n",
        "        print(\"Placeholder: Would download all MNIST files\")\n",
        "        # Keras takes care of downloading, so we don't need to actually implement this.\n",
        "\n",
        "    def _load_images(self, filename):\n",
        "        \"\"\" Placeholder for loading images from a local file (if not using Keras) \"\"\"\n",
        "        print(f\"Placeholder: Would load images from {filename}\")\n",
        "        # Since we use Keras' built-in loader, this function is not needed.\n",
        "        return np.zeros((60000, 784))  # Dummy return for illustration\n",
        "\n",
        "    def _load_labels(self, filename):\n",
        "        \"\"\" Placeholder for loading labels from a local file (if not using Keras) \"\"\"\n",
        "        print(f\"Placeholder: Would load labels from {filename}\")\n",
        "        # Since we use Keras' built-in loader, this function is not needed.\n",
        "        return np.zeros(60000)  # Dummy return for illustration\n",
        "\n",
        "    def _create_dataset(self):\n",
        "        \"\"\" Placeholder for creating the dataset from the downloaded files \"\"\"\n",
        "        print(\"Placeholder: Would create dataset by loading images and labels\")\n",
        "        self.train_images = self._load_images('train-images-idx3-ubyte.gz')\n",
        "        self.train_labels = self._load_labels('train-labels-idx1-ubyte.gz')\n",
        "        self.test_images = self._load_images('t10k-images-idx3-ubyte.gz')\n",
        "        self.test_labels = self._load_labels('t10k-labels-idx1-ubyte.gz')\n",
        "        with open(self.dataset_path, 'wb') as f:\n",
        "            pickle.dump(((self.train_images, self.train_labels), (self.test_images, self.test_labels)), f)\n",
        "\n",
        "    def _init_dataset(self):\n",
        "        \"\"\" Initialize dataset by loading from Keras or loading local files \"\"\"\n",
        "        if not os.path.exists(self.dataset_path):\n",
        "            print(\"Dataset not found locally, loading from Keras...\")\n",
        "            (self.train_images, self.train_labels), (self.test_images, self.test_labels) = mnist.load_data()\n",
        "        else:\n",
        "            print(\"Dataset found, loading dataset from file...\")\n",
        "            with open(self.dataset_path, 'rb') as f:\n",
        "                (self.train_images, self.train_labels), (self.test_images, self.test_labels) = pickle.load(f)\n",
        "\n",
        "    def load(self):\n",
        "        \"\"\" Load the dataset in a flattened format for consistency \"\"\"\n",
        "        train_images_flat = self.train_images.reshape(-1, 28*28)\n",
        "        test_images_flat = self.test_images.reshape(-1, 28*28)\n",
        "        return (train_images_flat, self.train_labels), (test_images_flat, self.test_labels)\n",
        "\n",
        "    def _change_one_hot_label(self, labels, num_classes=10):\n",
        "        \"\"\" Convert labels to one-hot encoding \"\"\"\n",
        "        one_hot_labels = np.zeros((labels.size, num_classes))\n",
        "        one_hot_labels[np.arange(labels.size), labels] = 1\n",
        "        return one_hot_labels\n",
        "\n",
        "    def show_image(self, dataset_type='train', index=0):\n",
        "        \"\"\" Display an image and its label \"\"\"\n",
        "        if dataset_type == 'train':\n",
        "            image = self.train_images[index]\n",
        "            label = self.train_labels[index]\n",
        "        else:\n",
        "            image = self.test_images[index]\n",
        "            label = self.test_labels[index]\n",
        "\n",
        "        plt.imshow(image, cmap='gray')\n",
        "        plt.title(f\"Label: {label}\")\n",
        "        plt.show()\n"
      ]
    },
    {
      "cell_type": "markdown",
      "id": "31c4f6b3",
      "metadata": {
        "id": "31c4f6b3"
      },
      "source": [
        "## Testing the MnistData Class\n",
        "Let's instantiate the class and load the dataset. We'll also display a sample image and label."
      ]
    },
    {
      "cell_type": "code",
      "execution_count": 7,
      "id": "1d8b0aac",
      "metadata": {
        "colab": {
          "base_uri": "https://localhost:8080/",
          "height": 507
        },
        "id": "1d8b0aac",
        "outputId": "4e732845-31d3-477d-c854-6e0bbbfc137e"
      },
      "outputs": [
        {
          "output_type": "stream",
          "name": "stdout",
          "text": [
            "Dataset not found locally, loading from Keras...\n",
            "Train data shape: (60000, 784), Train labels shape: (60000,)\n",
            "Test data shape: (10000, 784), Test labels shape: (10000,)\n"
          ]
        },
        {
          "output_type": "display_data",
          "data": {
            "text/plain": [
              "<Figure size 640x480 with 1 Axes>"
            ],
            "image/png": "[encoded data removed]"
          },
          "metadata": {}
        }
      ],
      "source": [
        "# Instantiate MnistData class and load the data\n",
        "mnist_data = MnistData()\n",
        "(train_images, train_labels), (test_images, test_labels) = mnist_data.load()\n",
        "print(f\"Train data shape: {train_images.shape}, Train labels shape: {train_labels.shape}\")\n",
        "print(f\"Test data shape: {test_images.shape}, Test labels shape: {test_labels.shape}\")\n",
        "\n",
        "# Display a sample image and label\n",
        "mnist_data.show_image('train', 0)\n",
        ""
      ]
    },
    {
      "cell_type": "markdown",
      "id": "039d46da",
      "metadata": {
        "id": "039d46da"
      },
      "source": [
        "## Softmax Function\n",
        "Let's implement a softmax function with overflow handling and test it with example inputs."
      ]
    },
    {
      "cell_type": "code",
      "execution_count": 8,
      "id": "5bb14267",
      "metadata": {
        "colab": {
          "base_uri": "https://localhost:8080/"
        },
        "id": "5bb14267",
        "outputId": "44e71c8f-fd63-4d85-896e-90cf36e4423d"
      },
      "outputs": [
        {
          "output_type": "stream",
          "name": "stdout",
          "text": [
            "Softmax output: [9.99919011e-01 7.48457677e-05 6.14371474e-06]\n"
          ]
        }
      ],
      "source": [
        "# Softmax function with overflow handling\n",
        "def softmax(x):\n",
        "    x = x - np.max(x)  # To avoid overflow\n",
        "    exp_x = np.exp(x)\n",
        "    return exp_x / np.sum(exp_x, axis=-1, keepdims=True)\n",
        "\n",
        "# Test softmax function\n",
        "logits = np.array([10, 0.5, -2])\n",
        "print(\"Softmax output:\", softmax(logits))\n",
        ""
      ]
    },
    {
      "cell_type": "markdown",
      "id": "62b65532",
      "metadata": {
        "id": "62b65532"
      },
      "source": [
        "## One-Hot Encoding\n",
        "Let's demonstrate how labels are converted to one-hot encoding."
      ]
    },
    {
      "cell_type": "code",
      "execution_count": 9,
      "id": "7bc8c369",
      "metadata": {
        "colab": {
          "base_uri": "https://localhost:8080/"
        },
        "id": "7bc8c369",
        "outputId": "f1e18971-a2f1-4dd6-90ff-9f8ae8496499"
      },
      "outputs": [
        {
          "output_type": "stream",
          "name": "stdout",
          "text": [
            "One-hot encoded labels:\n",
            "[[1. 0. 0. 0. 0. 0. 0. 0. 0. 0.]\n",
            " [0. 0. 0. 1. 0. 0. 0. 0. 0. 0.]\n",
            " [0. 0. 0. 0. 0. 0. 0. 1. 0. 0.]]\n"
          ]
        }
      ],
      "source": [
        "# Example of one-hot encoding\n",
        "labels = np.array([0, 3, 7])\n",
        "one_hot_labels = mnist_data._change_one_hot_label(labels)\n",
        "print(\"One-hot encoded labels:\")\n",
        "print(one_hot_labels)\n",
        ""
      ]
    },
    {
      "cell_type": "markdown",
      "id": "ee88d9c9",
      "metadata": {
        "id": "ee88d9c9"
      },
      "source": [
        "## Displaying Four Examples\n",
        "We'll show two images from the training dataset and two images from the test dataset."
      ]
    },
    {
      "cell_type": "code",
      "execution_count": 10,
      "id": "68abed8c",
      "metadata": {
        "colab": {
          "base_uri": "https://localhost:8080/",
          "height": 1000
        },
        "id": "68abed8c",
        "outputId": "9badea0b-5e3f-4c8a-b7de-3dd0e8b78e1a"
      },
      "outputs": [
        {
          "output_type": "stream",
          "name": "stdout",
          "text": [
            "Train Image 1:\n"
          ]
        },
        {
          "output_type": "display_data",
          "data": {
            "text/plain": [
              "<Figure size 640x480 with 1 Axes>"
            ],
            "image/png": "[encoded data removed]"
          },
          "metadata": {}
        },
        {
          "output_type": "stream",
          "name": "stdout",
          "text": [
            "Train Image 2:\n"
          ]
        },
        {
          "output_type": "display_data",
          "data": {
            "text/plain": [
              "<Figure size 640x480 with 1 Axes>"
            ],
            "image/png": "[encoded data removed]"
          },
          "metadata": {}
        },
        {
          "output_type": "stream",
          "name": "stdout",
          "text": [
            "Test Image 1:\n"
          ]
        },
        {
          "output_type": "display_data",
          "data": {
            "text/plain": [
              "<Figure size 640x480 with 1 Axes>"
            ],
            "image/png": "[encoded data removed]"
          },
          "metadata": {}
        },
        {
          "output_type": "stream",
          "name": "stdout",
          "text": [
            "Test Image 2:\n"
          ]
        },
        {
          "output_type": "display_data",
          "data": {
            "text/plain": [
              "<Figure size 640x480 with 1 Axes>"
            ],
            "image/png": "[encoded data removed]"
          },
          "metadata": {}
        }
      ],
      "source": [
        "# Show two images from train dataset\n",
        "print(\"Train Image 1:\")\n",
        "mnist_data.show_image('train', 0)\n",
        "print(\"Train Image 2:\")\n",
        "mnist_data.show_image('train', 1)\n",
        "\n",
        "# Show two images from test dataset\n",
        "print(\"Test Image 1:\")\n",
        "mnist_data.show_image('test', 0)\n",
        "print(\"Test Image 2:\")\n",
        "mnist_data.show_image('test', 1)\n",
        ""
      ]
    }
  ],
  "metadata": {
    "colab": {
      "provenance": []
    },
    "language_info": {
      "name": "python"
    },
    "kernelspec": {
      "name": "python3",
      "display_name": "Python 3"
    }
  },
  "nbformat": 4,
  "nbformat_minor": 5
}
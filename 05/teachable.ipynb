{
 "cells": [
  {
   "cell_type": "markdown",
   "id": "fe9932d2",
   "metadata": {},
   "source": [
    "# Rock Paper Scissors Classifier\n",
    "This notebook will show how to use the trained model from Teachable Machine to classify rock, paper, and scissors images."
   ]
  },
  {
   "cell_type": "markdown",
   "id": "13e04453",
   "metadata": {},
   "source": [
    "## Install Required Libraries\n",
    "First, we need to install the required libraries."
   ]
  },
  {
   "cell_type": "code",
   "execution_count": null,
   "id": "bc1061ec",
   "metadata": {},
   "outputs": [],
   "source": [
    "!pip install tensorflow opencv-python matplotlib"
   ]
  },
  {
   "cell_type": "markdown",
   "id": "f30d6b9b",
   "metadata": {},
   "source": [
    "## Load the Model and Labels\n",
    "We will load the TensorFlow model and labels from the Teachable Machine export."
   ]
  },
  {
   "cell_type": "code",
   "execution_count": null,
   "id": "70c93911",
   "metadata": {},
   "outputs": [],
   "source": [
    "import tensorflow as tf\n",
    "\n",
    "# Function to load class names from labels.txt\n",
    "def load_labels(label_file):\n",
    "    with open(label_file, 'r') as f:\n",
    "        class_names = f.read().splitlines()\n",
    "    return class_names\n",
    "\n",
    "# Load the trained model\n",
    "model = tf.keras.models.load_model('path_to_your_model.h5')\n",
    "\n",
    "# Load the class names from the labels.txt file\n",
    "class_names = load_labels('labels.txt')\n",
    "print(\"Model and labels loaded.\")\n"
   ]
  },
  {
   "cell_type": "markdown",
   "id": "5ef5ac91",
   "metadata": {},
   "source": [
    "## Classify an Image\n",
    "Here, we will write a function to classify an image and show the result."
   ]
  },
  {
   "cell_type": "code",
   "execution_count": null,
   "id": "b2831d04",
   "metadata": {},
   "outputs": [],
   "source": [
    "import numpy as np\n",
    "import matplotlib.pyplot as plt\n",
    "import cv2\n",
    "\n",
    "def classify_image(image_path):\n",
    "    # Read and preprocess the image\n",
    "    img = cv2.imread(image_path)\n",
    "    img_rgb = cv2.cvtColor(img, cv2.COLOR_BGR2RGB)  # Convert to RGB for display\n",
    "    img_resized = cv2.resize(img_rgb, (224, 224))  # Resize to model's input size\n",
    "    img_normalized = np.array(img_resized, dtype=np.float32) / 255.0  # Normalize image\n",
    "    img_expanded = np.expand_dims(img_normalized, axis=0)  # Add batch dimension\n",
    "\n",
    "    # Predict the class\n",
    "    predictions = model.predict(img_expanded)\n",
    "    class_idx = np.argmax(predictions)\n",
    "    prediction_label = class_names[class_idx]\n",
    "    confidence_score = predictions[0][class_idx]\n",
    "\n",
    "    # Display the image\n",
    "    plt.imshow(img_rgb)\n",
    "    plt.axis('off')\n",
    "    plt.show()\n",
    "\n",
    "    # Output class and confidence\n",
    "    print(f\"Class: {prediction_label}\")\n",
    "    print(f\"Confidence Score: {confidence_score:.4f}\")\n",
    "\n",
    "# Test the function\n",
    "classify_image('path_to_test_image.jpg')\n"
   ]
  }
 ],
 "metadata": {},
 "nbformat": 4,
 "nbformat_minor": 5
}

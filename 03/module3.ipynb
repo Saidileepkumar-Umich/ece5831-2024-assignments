{
  "cells": [
    {
      "cell_type": "markdown",
      "metadata": {
        "id": "b6dX8Z3GeGHV"
      },
      "source": [
        "# LogicGate Class Implementation and Testing\n",
        "\n",
        "This notebook demonstrates the implementation and testing of the `LogicGate` class in Python, using NumPy to handle logical operations.\n",
        "The logic gates tested include AND, NAND, OR, NOR, and XOR gates.\n"
      ],
      "id": "b6dX8Z3GeGHV"
    },
    {
      "cell_type": "code",
      "execution_count": 3,
      "metadata": {
        "id": "4vZlLvQkeGHX"
      },
      "outputs": [],
      "source": [
        "import numpy as np\n",
        "from logic_gate import LogicGate\n",
        "gate = LogicGate()"
      ],
      "id": "4vZlLvQkeGHX"
    },
    {
      "cell_type": "markdown",
      "metadata": {
        "id": "8O3Aqc33eGHZ"
      },
      "source": [
        "## Testing AND Gate"
      ],
      "id": "8O3Aqc33eGHZ"
    },
    {
      "cell_type": "code",
      "execution_count": 4,
      "metadata": {
        "id": "UN7Pq9zFeGHZ",
        "outputId": "23c40bd4-809d-403b-b267-2d9c6313231c",
        "colab": {
          "base_uri": "https://localhost:8080/"
        }
      },
      "outputs": [
        {
          "output_type": "stream",
          "name": "stdout",
          "text": [
            "AND Gate: [ True False False False]\n"
          ]
        }
      ],
      "source": [
        "a = np.array([True, True, False, False])\n",
        "b = np.array([True, False, True, False])\n",
        "print('AND Gate:', gate.and_gate(a, b))"
      ],
      "id": "UN7Pq9zFeGHZ"
    },
    {
      "cell_type": "markdown",
      "metadata": {
        "id": "NDEKH2nTeGHa"
      },
      "source": [
        "## Testing NAND Gate"
      ],
      "id": "NDEKH2nTeGHa"
    },
    {
      "cell_type": "code",
      "execution_count": 5,
      "metadata": {
        "id": "5xw5JxSAeGHa",
        "outputId": "ee8798b4-4719-4e09-c1f6-c79e1770f619",
        "colab": {
          "base_uri": "https://localhost:8080/"
        }
      },
      "outputs": [
        {
          "output_type": "stream",
          "name": "stdout",
          "text": [
            "NAND Gate: [False  True  True  True]\n"
          ]
        }
      ],
      "source": [
        "print('NAND Gate:', gate.nand_gate(a, b))"
      ],
      "id": "5xw5JxSAeGHa"
    },
    {
      "cell_type": "markdown",
      "metadata": {
        "id": "YbKCesvweGHa"
      },
      "source": [
        "## Testing OR Gate"
      ],
      "id": "YbKCesvweGHa"
    },
    {
      "cell_type": "code",
      "execution_count": 6,
      "metadata": {
        "id": "0oZ4W6qOeGHa",
        "outputId": "397bde82-8e54-4256-b97f-d5381c32c975",
        "colab": {
          "base_uri": "https://localhost:8080/"
        }
      },
      "outputs": [
        {
          "output_type": "stream",
          "name": "stdout",
          "text": [
            "OR Gate: [ True  True  True False]\n"
          ]
        }
      ],
      "source": [
        "print('OR Gate:', gate.or_gate(a, b))"
      ],
      "id": "0oZ4W6qOeGHa"
    },
    {
      "cell_type": "markdown",
      "metadata": {
        "id": "bdTUGLbLeGHb"
      },
      "source": [
        "## Testing NOR Gate"
      ],
      "id": "bdTUGLbLeGHb"
    },
    {
      "cell_type": "code",
      "execution_count": 7,
      "metadata": {
        "id": "eRU6AfuleGHb",
        "outputId": "0c37b841-eaed-400d-c216-7a210007a426",
        "colab": {
          "base_uri": "https://localhost:8080/"
        }
      },
      "outputs": [
        {
          "output_type": "stream",
          "name": "stdout",
          "text": [
            "NOR Gate: [False False False  True]\n"
          ]
        }
      ],
      "source": [
        "print('NOR Gate:', gate.nor_gate(a, b))"
      ],
      "id": "eRU6AfuleGHb"
    },
    {
      "cell_type": "markdown",
      "metadata": {
        "id": "fRRPo4oKeGHb"
      },
      "source": [
        "## Testing XOR Gate"
      ],
      "id": "fRRPo4oKeGHb"
    },
    {
      "cell_type": "code",
      "execution_count": 8,
      "metadata": {
        "id": "9MOjjwb_eGHc",
        "outputId": "50c39668-9574-44dd-b693-63ed6f2358a7",
        "colab": {
          "base_uri": "https://localhost:8080/"
        }
      },
      "outputs": [
        {
          "output_type": "stream",
          "name": "stdout",
          "text": [
            "XOR Gate: [False  True  True False]\n"
          ]
        }
      ],
      "source": [
        "print('XOR Gate:', gate.xor_gate(a, b))"
      ],
      "id": "9MOjjwb_eGHc"
    }
  ],
  "metadata": {
    "kernelspec": {
      "display_name": "Python 3",
      "language": "python",
      "name": "python3"
    },
    "language_info": {
      "name": "python",
      "version": "3.11.7"
    },
    "colab": {
      "provenance": []
    }
  },
  "nbformat": 4,
  "nbformat_minor": 5
}
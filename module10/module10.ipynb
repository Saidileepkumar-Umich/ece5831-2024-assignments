{
 "cells": [
  {
   "cell_type": "code",
   "execution_count": null,
   "metadata": {},
   "outputs": [],
   "source": [
    "# Import the DogsCats class from the script\n",
    "from dogs_cats import DogsCats\n",
    "\n",
    "# Initialize the DogsCats class\n",
    "ds = DogsCats()\n",
    "\n",
    "# Step 1: Create Dataset Folders\n",
    "print(\"Organizing dataset into train, valid, and test folders...\")\n",
    "ds.make_dataset_folders('valid', 0, 2400)\n",
    "ds.make_dataset_folders('train', 2400, 12000)\n",
    "ds.make_dataset_folders('test', 12000, 12500)\n",
    "\n",
    "# Step 2: Load Dataset Objects\n",
    "print(\"Loading dataset objects...\")\n",
    "ds.make_dataset()\n",
    "\n",
    "# Step 3: Build the Neural Network\n",
    "print(\"Building the neural network...\")\n",
    "ds.build_network()\n",
    "\n",
    "# Check if the model is successfully built\n",
    "if ds.model is None:\n",
    "    print(\"Model has not been built. Check the build_network method.\")\n",
    "else:\n",
    "    print(\"Model built successfully.\")\n",
    "    # Step 4: Show Model Summary\n",
    "    print(\"Model Summary:\")\n",
    "    #ds.model.summary()\n",
    "\n",
    "# Step 5: Train the Model\n",
    "print(\"Training the model...\")\n",
    "ds.train(\"model.dogs-vs-cats.keras\")\n",
    "\n",
    "# Step 6: Test Model Prediction\n",
    "print(\"Testing the model with a sample image...\")\n",
    "# Update the path below with an actual test image from your dataset\n",
    "image_file = \"dogs-vs-cats/test/cat/cat.12450.jpg\"\n",
    "ds.predict(image_file)"
   ]
  }
 ],
 "metadata": {
  "kernelspec": {
   "display_name": "base",
   "language": "python",
   "name": "python3"
  },
  "language_info": {
   "codemirror_mode": {
    "name": "ipython",
    "version": 3
   },
   "file_extension": ".py",
   "mimetype": "text/x-python",
   "name": "python",
   "nbconvert_exporter": "python",
   "pygments_lexer": "ipython3",
   "version": "3.11.3"
  }
 },
 "nbformat": 4,
 "nbformat_minor": 2
}

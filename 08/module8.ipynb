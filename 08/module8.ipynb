{
 "cells": [
  {
   "cell_type": "markdown",
   "id": "3a37b7cf",
   "metadata": {},
   "source": [
    "# Module 8: Training and Evaluating LeNet Model"
   ]
  },
  {
   "cell_type": "markdown",
   "id": "9ca2dc0d",
   "metadata": {},
   "source": [
    "This notebook demonstrates how to use the LeNet class for training, saving, loading, and testing the model."
   ]
  },
  {
   "cell_type": "code",
   "execution_count": null,
   "id": "74263341",
   "metadata": {},
   "outputs": [],
   "source": [
    "\n",
    "from le_net import LeNet\n",
    "import numpy as np\n",
    "from sklearn.model_selection import train_test_split\n",
    "from sklearn.datasets import fetch_openml\n",
    "\n",
    "# Load and preprocess MNIST data\n",
    "mnist = fetch_openml('mnist_784', version=1)\n",
    "x_data = mnist.data.reshape(-1, 28, 28, 1).astype(\"float32\") / 255.0  # Normalize\n",
    "y_data = mnist.target.astype(int)\n",
    "\n",
    "# Split into training and validation sets\n",
    "x_train, x_val, y_train, y_val = train_test_split(x_data, y_data, test_size=0.2, random_state=1)\n",
    "\n",
    "# Initialize LeNet\n",
    "lenet = LeNet(input_shape=(28, 28, 1), num_classes=10)\n"
   ]
  },
  {
   "cell_type": "markdown",
   "id": "57fb8877",
   "metadata": {},
   "source": [
    "## Train the Model"
   ]
  },
  {
   "cell_type": "code",
   "execution_count": null,
   "id": "ee950c2a",
   "metadata": {},
   "outputs": [],
   "source": [
    "\n",
    "# Train the LeNet model\n",
    "history = lenet.train(x_train, y_train, x_val, y_val, epochs=10, batch_size=32)\n"
   ]
  },
  {
   "cell_type": "markdown",
   "id": "9488c007",
   "metadata": {},
   "source": [
    "## Save the Model"
   ]
  },
  {
   "cell_type": "code",
   "execution_count": null,
   "id": "4b45aa73",
   "metadata": {},
   "outputs": [],
   "source": [
    "\n",
    "# Save the trained model\n",
    "lenet.save(\"Mukkamala_cnn_model\")\n"
   ]
  },
  {
   "cell_type": "markdown",
   "id": "0c57fef2",
   "metadata": {},
   "source": [
    "## Load the Saved Model"
   ]
  },
  {
   "cell_type": "code",
   "execution_count": null,
   "id": "f5d77d52",
   "metadata": {},
   "outputs": [],
   "source": [
    "\n",
    "# Load the model\n",
    "lenet.load(\"Mukkamala_cnn_model\")\n"
   ]
  },
  {
   "cell_type": "markdown",
   "id": "6ca754a0",
   "metadata": {},
   "source": [
    "## Evaluate the Model on Validation Data"
   ]
  },
  {
   "cell_type": "code",
   "execution_count": null,
   "id": "e28b44df",
   "metadata": {},
   "outputs": [],
   "source": [
    "\n",
    "# Calculate validation accuracy\n",
    "val_predictions = lenet.predict(x_val[:10])  # Predict the first 10 validation samples\n",
    "print(\"Predicted labels:\", val_predictions)\n",
    "print(\"True labels:\", y_val[:10])\n"
   ]
  }
 ],
 "metadata": {
  "language_info": {
   "name": "python"
  }
 },
 "nbformat": 4,
 "nbformat_minor": 5
}
